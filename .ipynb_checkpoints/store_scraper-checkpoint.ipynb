{
 "cells": [
  {
   "cell_type": "code",
   "execution_count": 27,
   "id": "0c79d975-c570-4c54-a5d1-7aa7f225d160",
   "metadata": {},
   "outputs": [],
   "source": [
    "from bs4 import BeautifulSoup as soup\n",
    "from fp.fp import FreeProxy\n",
    "import numpy as np\n",
    "import requests\n",
    "import warnings\n",
    "import time\n",
    "import re\n",
    "warnings.filterwarnings('ignore')"
   ]
  },
  {
   "cell_type": "code",
   "execution_count": 28,
   "id": "5801e2b8-cc77-436b-8e49-42944d640142",
   "metadata": {},
   "outputs": [],
   "source": [
    "# proxy = FreeProxy(country_id=['US', 'BR']).get()\n",
    "# proxy = FreeProxy(timeout=1).get()\n",
    "# proxy = FreeProxy(rand=True).get()"
   ]
  },
  {
   "cell_type": "code",
   "execution_count": 29,
   "id": "3932610e-75a5-42f7-ab1a-68b65d19eb0f",
   "metadata": {},
   "outputs": [],
   "source": [
    "SHOPRITE_SEARCH_URL = 'https://www.shoprite.co.za/search/all?q='\n",
    "SHOPRITE_URL = 'https://www.shoprite.co.za'"
   ]
  },
  {
   "cell_type": "code",
   "execution_count": 30,
   "id": "36ae7c98-67f5-4860-8ad4-7230bf376efc",
   "metadata": {},
   "outputs": [],
   "source": [
    "FOOD_BASKET = ['large eggs 6', 'large eggs 18', 'extra large eggs 30', 'table salt 500g',\n",
    "               'table salt 1kg', 'rice 2kg', 'rice 5kg', 'rice 1kg', 'rice canister 10l', \n",
    "              'sugar 500g', 'sugar 1kg', 'sugar 2.5kg', 'sugar 5kg', 'sugar 10kg',\n",
    "              'flour 500g', 'flour 1kg', 'flour 2.5kg', 'flour 5kg', 'flour 10kg',\n",
    "              'frozen chicken', 'pork bangers', 'pork rashers', 'pork loin chops',\n",
    "              'pork braai chops', 'pork chops', 'pork shoulder ribs', 'stewing pork',\n",
    "              'beef goulash', 'ground beef', 'beef parcel', 'beef brisket', 'coarse salt 500g',\n",
    "              'fine salt 500g', 'medium salt 500g']"
   ]
  },
  {
   "cell_type": "code",
   "execution_count": 31,
   "id": "3e499fe6-9629-4917-88ca-8b06866bc8ce",
   "metadata": {},
   "outputs": [],
   "source": [
    "user_basket = np.random.choice(FOOD_BASKET, 5)"
   ]
  },
  {
   "cell_type": "code",
   "execution_count": 32,
   "id": "ea30d4d6-852f-47a8-8d55-c07629b3214d",
   "metadata": {},
   "outputs": [],
   "source": [
    "def fetch_html(url):\n",
    "    headers={'User-Agent': 'Mozilla/5.0 (Windows NT 10.0; Win64; x64) AppleWebKit/537.36 (KHTML, like Gecko) Chrome/102.0.0.0 Safari/537.36'}\n",
    "    response = requests.get(url, verify=False, headers=headers, timeout=10, proxies={'http': proxy})\n",
    "    print(\"html downloaded successfully\")\n",
    "    page = soup(response.content, 'html.parser')\n",
    "\n",
    "    return page"
   ]
  },
  {
   "cell_type": "code",
   "execution_count": 33,
   "id": "8d36e635-ba40-4809-8589-07f7724e3739",
   "metadata": {},
   "outputs": [],
   "source": [
    "def extract_product_links(html_page):\n",
    "  \n",
    "    product_div = html_page.find('div', {\"class\": re.compile('(\\w+-)*search-landing')})\n",
    "    content = product_div.find('div', class_='yCmsContentSlot')\n",
    "    component = content.find('div', class_='yCmsComponent')\n",
    "    product_wrappers = component.find('div', class_='search-landing__block--products')\n",
    "    product_row = product_wrappers.find('div', class_='row')\n",
    "    products = product_row.findAll('div', class_='product-frame')\n",
    "    \n",
    "    links = []\n",
    "    for product in products:\n",
    "        figure = product.find('figure')\n",
    "        product_link = figure.find('a', href=True)['href']\n",
    "        links.append(product_link)\n",
    "    \n",
    "    return links"
   ]
  },
  {
   "cell_type": "code",
   "execution_count": 34,
   "id": "65e4acbb-b3c7-47bd-a8f1-930c842d6b6e",
   "metadata": {},
   "outputs": [],
   "source": [
    "def match_product_url(links_arr, item):\n",
    "    \n",
    "    pattern = r'([\\w+-/%?]+' + str(item.replace(' ', '\\-')) + '[\\w+-/%?]+)'\n",
    "\n",
    "    found = []\n",
    "\n",
    "    for link in links_arr:\n",
    "        try:\n",
    "            match = re.search(pattern, link.lower()).group()\n",
    "            found.append({link: match})\n",
    "        except Exception:\n",
    "            None\n",
    "    \n",
    "    return found"
   ]
  },
  {
   "cell_type": "code",
   "execution_count": 35,
   "id": "8cdb460a-52e0-4fea-9875-d21ae02b73d8",
   "metadata": {},
   "outputs": [],
   "source": [
    "def extract_brand(link):\n",
    "    \n",
    "    text = list(link.values())[0].split('/')[-3]\n",
    "    \n",
    "    try:\n",
    "        value = re.search(r'(\\d+(\\-)?\\d+)', text).group()\n",
    "        new_link = re.sub(value, value.replace('-', '.'), text)\n",
    "        \n",
    "    except Exception:\n",
    "        new_link = text\n",
    "    \n",
    "    \n",
    "    return new_link.replace('-', ' ').title()"
   ]
  },
  {
   "cell_type": "code",
   "execution_count": 36,
   "id": "b9d795e4-335c-4db7-b9e2-f654ddc7db30",
   "metadata": {},
   "outputs": [],
   "source": [
    "def get_brands(arr_links):\n",
    "    \n",
    "    brands = []\n",
    "    counter = 1\n",
    "    \n",
    "    for item in arr_links:\n",
    "        brands.append({counter: extract_brand(item)})\n",
    "        counter+=1\n",
    "        \n",
    "    return brands"
   ]
  },
  {
   "cell_type": "code",
   "execution_count": 37,
   "id": "5bc710d8-86f5-4074-8362-bff18ad48d95",
   "metadata": {},
   "outputs": [],
   "source": [
    "def evaluate_user_choice(user_choice,  matching_product_urls, brands, item):\n",
    "    \n",
    "    html = \"\"\n",
    "    for brand in brands:\n",
    "        for key, value in brand.items():\n",
    "            if eval(user_choice) == key:\n",
    "                k_found = match_product_url(list(matching_product_urls[0].keys()), item)\n",
    "                url = list(k_found[0].keys())[0]\n",
    "                k_fetch = fetch_html(SHOPRITE_URL+url)\n",
    "                html = k_fetch\n",
    "                \n",
    "    return html"
   ]
  },
  {
   "cell_type": "code",
   "execution_count": 38,
   "id": "3f61327b-f863-4aa5-a499-87e3caa4bc54",
   "metadata": {},
   "outputs": [],
   "source": [
    "def get_product_details(html):\n",
    "    product_specs = {}\n",
    "    \n",
    "    product_wrapper = html.find('div', class_='main__inner-wrapper')\n",
    "    product_div = product_wrapper.find('div', class_='pdp')\n",
    "    product_details = product_div.find('div', class_='pdp__details')\n",
    "    regex = r'\\d+\\.\\d+'\n",
    "    price = re.search(regex, product_details.find('div', class_='special-price__price').find('span').get_text().strip().lstrip('R')).group()\n",
    "\n",
    "    try:\n",
    "        promo_price = product_details.find('div', class_='special-price__extra').find('span').get_text().strip().lstrip('R')\n",
    "        promo_condition = product_details.find('span', class_='special-price__extra__text').get_text()\n",
    "    except:\n",
    "        promo_price = None\n",
    "        promo_condition = None\n",
    "\n",
    "    product_desc = product_details.find('div', class_='pdp__description').get_text()\n",
    "    product_name = product_details.find('h1', class_='pdp__name').get_text()\n",
    "    product_brand = product_name.split()[0]\n",
    "    product_image_url = SHOPRITE_URL + product_div.find('div', class_='pdp__image').find('img')['src']\n",
    "\n",
    "    product_specs['Brand'] = product_brand\n",
    "    product_specs['Name'] = product_name\n",
    "    product_specs['Description'] = product_desc\n",
    "    product_specs['Regular Price'] = price\n",
    "    product_specs['Promo Price'] = promo_price\n",
    "    product_specs['Promo Condition'] = promo_condition\n",
    "    product_specs['Product Image'] = product_image_url\n",
    "    \n",
    "    return product_specs"
   ]
  },
  {
   "cell_type": "code",
   "execution_count": 39,
   "id": "d63aaf47-a449-4526-afc5-0c3eebf59138",
   "metadata": {},
   "outputs": [],
   "source": [
    "def total_cost(basket_details):\n",
    "    \n",
    "    total_cost = 0\n",
    "\n",
    "    for item in basket_details:\n",
    "        if item['Promo Price']:\n",
    "            price = item['Promo Price']\n",
    "        else:\n",
    "            price = item['Regular Price']\n",
    "\n",
    "        total_cost += float(price)\n",
    "        \n",
    "    return \"Total Cost of Basket is: R\" + str(round(total_cost,2)).center(150, '#')\n",
    "    "
   ]
  },
  {
   "cell_type": "code",
   "execution_count": 47,
   "id": "8f9d0f88-3014-4923-b19a-f5c950a52daf",
   "metadata": {},
   "outputs": [],
   "source": [
    "def evaluate_user_basket(basket):\n",
    "    user_product_details = []\n",
    "\n",
    "    for item in basket:\n",
    "        search_result = fetch_html(SHOPRITE_SEARCH_URL+item)\n",
    "        product_links = extract_product_links(search_result)\n",
    "        product_match = match_product_url(product_links, item)\n",
    "        product_brands = get_brands(product_match)\n",
    "\n",
    "        print(product_brands)\n",
    "\n",
    "        user_choice = input('select brand > ')\n",
    "        html = evaluate_user_choice(user_choice, product_match, product_brands, item)\n",
    "        product_details = get_product_details(html)\n",
    "\n",
    "        user_product_details.append(product_details)\n",
    "        \n",
    "        basket_cost = total_cost(user_product_details)\n",
    "        \n",
    "    return basket_cost"
   ]
  },
  {
   "cell_type": "code",
   "execution_count": 48,
   "id": "1eea1283-637c-4ff4-b119-6096a3f7502f",
   "metadata": {},
   "outputs": [
    {
     "name": "stdout",
     "output_type": "stream",
     "text": [
      "[]\n"
     ]
    },
    {
     "name": "stdin",
     "output_type": "stream",
     "text": [
      "select brand >  0\n"
     ]
    },
    {
     "ename": "TypeError",
     "evalue": "find() takes no keyword arguments",
     "output_type": "error",
     "traceback": [
      "\u001b[1;31m---------------------------------------------------------------------------\u001b[0m",
      "\u001b[1;31mTypeError\u001b[0m                                 Traceback (most recent call last)",
      "Input \u001b[1;32mIn [48]\u001b[0m, in \u001b[0;36m<cell line: 1>\u001b[1;34m()\u001b[0m\n\u001b[1;32m----> 1\u001b[0m \u001b[43mevaluate_user_basket\u001b[49m\u001b[43m(\u001b[49m\u001b[43muser_basket\u001b[49m\u001b[43m,\u001b[49m\u001b[43m \u001b[49m\u001b[43msearch_result\u001b[49m\u001b[43m)\u001b[49m\n",
      "Input \u001b[1;32mIn [47]\u001b[0m, in \u001b[0;36mevaluate_user_basket\u001b[1;34m(basket, result)\u001b[0m\n\u001b[0;32m     12\u001b[0m user_choice \u001b[38;5;241m=\u001b[39m \u001b[38;5;28minput\u001b[39m(\u001b[38;5;124m'\u001b[39m\u001b[38;5;124mselect brand > \u001b[39m\u001b[38;5;124m'\u001b[39m)\n\u001b[0;32m     13\u001b[0m html \u001b[38;5;241m=\u001b[39m evaluate_user_choice(user_choice, product_match, product_brands, item)\n\u001b[1;32m---> 14\u001b[0m product_details \u001b[38;5;241m=\u001b[39m \u001b[43mget_product_details\u001b[49m\u001b[43m(\u001b[49m\u001b[43mhtml\u001b[49m\u001b[43m)\u001b[49m\n\u001b[0;32m     16\u001b[0m user_product_details\u001b[38;5;241m.\u001b[39mappend(product_details)\n\u001b[0;32m     18\u001b[0m basket_cost \u001b[38;5;241m=\u001b[39m total_cost(user_product_details)\n",
      "Input \u001b[1;32mIn [38]\u001b[0m, in \u001b[0;36mget_product_details\u001b[1;34m(html)\u001b[0m\n\u001b[0;32m      1\u001b[0m \u001b[38;5;28;01mdef\u001b[39;00m \u001b[38;5;21mget_product_details\u001b[39m(html):\n\u001b[0;32m      2\u001b[0m     product_specs \u001b[38;5;241m=\u001b[39m {}\n\u001b[1;32m----> 4\u001b[0m     product_wrapper \u001b[38;5;241m=\u001b[39m \u001b[43mhtml\u001b[49m\u001b[38;5;241;43m.\u001b[39;49m\u001b[43mfind\u001b[49m\u001b[43m(\u001b[49m\u001b[38;5;124;43m'\u001b[39;49m\u001b[38;5;124;43mdiv\u001b[39;49m\u001b[38;5;124;43m'\u001b[39;49m\u001b[43m,\u001b[49m\u001b[43m \u001b[49m\u001b[43mclass_\u001b[49m\u001b[38;5;241;43m=\u001b[39;49m\u001b[38;5;124;43m'\u001b[39;49m\u001b[38;5;124;43mmain__inner-wrapper\u001b[39;49m\u001b[38;5;124;43m'\u001b[39;49m\u001b[43m)\u001b[49m\n\u001b[0;32m      5\u001b[0m     product_div \u001b[38;5;241m=\u001b[39m product_wrapper\u001b[38;5;241m.\u001b[39mfind(\u001b[38;5;124m'\u001b[39m\u001b[38;5;124mdiv\u001b[39m\u001b[38;5;124m'\u001b[39m, class_\u001b[38;5;241m=\u001b[39m\u001b[38;5;124m'\u001b[39m\u001b[38;5;124mpdp\u001b[39m\u001b[38;5;124m'\u001b[39m)\n\u001b[0;32m      6\u001b[0m     product_details \u001b[38;5;241m=\u001b[39m product_div\u001b[38;5;241m.\u001b[39mfind(\u001b[38;5;124m'\u001b[39m\u001b[38;5;124mdiv\u001b[39m\u001b[38;5;124m'\u001b[39m, class_\u001b[38;5;241m=\u001b[39m\u001b[38;5;124m'\u001b[39m\u001b[38;5;124mpdp__details\u001b[39m\u001b[38;5;124m'\u001b[39m)\n",
      "\u001b[1;31mTypeError\u001b[0m: find() takes no keyword arguments"
     ]
    }
   ],
   "source": [
    "evaluate_user_basket(user_basket, search_result)"
   ]
  },
  {
   "cell_type": "code",
   "execution_count": 45,
   "id": "8f15e5ab-27e2-4974-a8c9-bdc1f4b5abc5",
   "metadata": {},
   "outputs": [
    {
     "name": "stdout",
     "output_type": "stream",
     "text": [
      "html downloaded successfully\n"
     ]
    }
   ],
   "source": [
    "search_result = fetch_html(SHOPRITE_SEARCH_URL+\"rice 1kg\")"
   ]
  },
  {
   "cell_type": "code",
   "execution_count": 49,
   "id": "c21b3df0-c1dc-4304-b58e-3cb31ab6183a",
   "metadata": {},
   "outputs": [],
   "source": [
    "product_links = extract_product_links(search_result)"
   ]
  },
  {
   "cell_type": "code",
   "execution_count": 53,
   "id": "111bb17d-a9be-433f-8296-cc121a4bd609",
   "metadata": {},
   "outputs": [],
   "source": [
    "product_match = match_product_url(product_links, \"rice 1kg\")"
   ]
  },
  {
   "cell_type": "code",
   "execution_count": 54,
   "id": "b9a65fb3-9622-46fe-a785-c20d025d0771",
   "metadata": {},
   "outputs": [
    {
     "data": {
      "text/plain": [
       "[{'/All-Departments/Food/Food-Cupboard/Rice%2C-Pasta%2C-Noodles-and-Cous-Cous/Rice/Tastic-Basmati-Rice-1kg/p/10131340EA': '/all-departments/food/food-cupboard/rice%2c-pasta%2c-noodles-and-cous-cous/rice/tastic-basmati-rice-1kg/p/10131340ea'},\n",
       " {'/All-Departments/Food/Food-Cupboard/Rice%2C-Pasta%2C-Noodles-and-Cous-Cous/Rice/Ritebrand-Parboiled-Rice-1kg/p/10156957EA': '/all-departments/food/food-cupboard/rice%2c-pasta%2c-noodles-and-cous-cous/rice/ritebrand-parboiled-rice-1kg/p/10156957ea'},\n",
       " {'/All-Departments/Food/Food-Cupboard/Rice%2C-Pasta%2C-Noodles-and-Cous-Cous/Rice/Tastic-Jasmine-Fragrant-Thai-Rice-1kg/p/10138573EA': '/all-departments/food/food-cupboard/rice%2c-pasta%2c-noodles-and-cous-cous/rice/tastic-jasmine-fragrant-thai-rice-1kg/p/10138573ea'},\n",
       " {'/All-Departments/Food/Food-Cupboard/Rice%2C-Pasta%2C-Noodles-and-Cous-Cous/Rice/Tastic-Long-Grain-Parboiled-Rice-1kg/p/10130259EA': '/all-departments/food/food-cupboard/rice%2c-pasta%2c-noodles-and-cous-cous/rice/tastic-long-grain-parboiled-rice-1kg/p/10130259ea'},\n",
       " {'/All-Departments/Food/Food-Cupboard/Rice%2C-Pasta%2C-Noodles-and-Cous-Cous/Rice/Spekko-Long-Grain-Parboiled-White-Rice-1kg/p/10123881EA': '/all-departments/food/food-cupboard/rice%2c-pasta%2c-noodles-and-cous-cous/rice/spekko-long-grain-parboiled-white-rice-1kg/p/10123881ea'},\n",
       " {'/All-Departments/Food/Food-Cupboard/Rice%2C-Pasta%2C-Noodles-and-Cous-Cous/Rice/Spekko-Saman-White-Long-Grain-Rice-1kg/p/10427894EA': '/all-departments/food/food-cupboard/rice%2c-pasta%2c-noodles-and-cous-cous/rice/spekko-saman-white-long-grain-rice-1kg/p/10427894ea'},\n",
       " {'/All-Departments/Food/Food-Cupboard/Rice%2C-Pasta%2C-Noodles-and-Cous-Cous/Rice/Spekko-Saman-Brown-Long-Grain-Parboiled-Rice-1kg/p/10427897EA': '/all-departments/food/food-cupboard/rice%2c-pasta%2c-noodles-and-cous-cous/rice/spekko-saman-brown-long-grain-parboiled-rice-1kg/p/10427897ea'},\n",
       " {'/All-Departments/Food/Food-Cupboard/Rice%2C-Pasta%2C-Noodles-and-Cous-Cous/Rice/Spekko-India-Gate-Basmati-Long-Grain-White-Rice-1kg/p/10427896EA': '/all-departments/food/food-cupboard/rice%2c-pasta%2c-noodles-and-cous-cous/rice/spekko-india-gate-basmati-long-grain-white-rice-1kg/p/10427896ea'},\n",
       " {'/All-Departments/Food/Food-Cupboard/Rice%2C-Pasta%2C-Noodles-and-Cous-Cous/Rice/Spekko-Royal-Umbrella-Jasmine-Long-Grain-White-Rice-1kg/p/10427895EA': '/all-departments/food/food-cupboard/rice%2c-pasta%2c-noodles-and-cous-cous/rice/spekko-royal-umbrella-jasmine-long-grain-white-rice-1kg/p/10427895ea'}]"
      ]
     },
     "execution_count": 54,
     "metadata": {},
     "output_type": "execute_result"
    }
   ],
   "source": [
    "product_match"
   ]
  },
  {
   "cell_type": "code",
   "execution_count": 56,
   "id": "1c6bb29b-ba53-4920-9289-94b5c9e487d9",
   "metadata": {},
   "outputs": [],
   "source": [
    "product_brands = get_brands(product_match)"
   ]
  },
  {
   "cell_type": "code",
   "execution_count": 57,
   "id": "5961fbef-a9cc-4c2a-b3ab-3e80e4f5500d",
   "metadata": {},
   "outputs": [
    {
     "data": {
      "text/plain": [
       "[{1: 'Tastic Basmati Rice 1Kg'},\n",
       " {2: 'Ritebrand Parboiled Rice 1Kg'},\n",
       " {3: 'Tastic Jasmine Fragrant Thai Rice 1Kg'},\n",
       " {4: 'Tastic Long Grain Parboiled Rice 1Kg'},\n",
       " {5: 'Spekko Long Grain Parboiled White Rice 1Kg'},\n",
       " {6: 'Spekko Saman White Long Grain Rice 1Kg'},\n",
       " {7: 'Spekko Saman Brown Long Grain Parboiled Rice 1Kg'},\n",
       " {8: 'Spekko India Gate Basmati Long Grain White Rice 1Kg'},\n",
       " {9: 'Spekko Royal Umbrella Jasmine Long Grain White Rice 1Kg'}]"
      ]
     },
     "execution_count": 57,
     "metadata": {},
     "output_type": "execute_result"
    }
   ],
   "source": [
    "product_brands"
   ]
  },
  {
   "cell_type": "code",
   "execution_count": 59,
   "id": "9a0571dc-5d02-4575-9f1b-2f76e433c34f",
   "metadata": {},
   "outputs": [
    {
     "data": {
      "text/plain": [
       "['/All-Departments/Food/Food-Cupboard/Rice%2C-Pasta%2C-Noodles-and-Cous-Cous/Rice/Tastic-Basmati-Rice-1kg/p/10131340EA',\n",
       " '/All-Departments/Food/Food-Cupboard/Rice%2C-Pasta%2C-Noodles-and-Cous-Cous/Rice/Ritebrand-Parboiled-Rice-1kg/p/10156957EA',\n",
       " '/All-Departments/Food/Food-Cupboard/Rice%2C-Pasta%2C-Noodles-and-Cous-Cous/Rice/Tastic-Jasmine-Fragrant-Thai-Rice-1kg/p/10138573EA',\n",
       " '/All-Departments/Food/Food-Cupboard/Rice%2C-Pasta%2C-Noodles-and-Cous-Cous/Rice/Tastic-Long-Grain-Parboiled-Rice-1kg/p/10130259EA',\n",
       " '/All-Departments/Food/Food-Cupboard/Rice%2C-Pasta%2C-Noodles-and-Cous-Cous/Rice/Spekko-Long-Grain-Parboiled-White-Rice-1kg/p/10123881EA',\n",
       " '/All-Departments/Food/Food-Cupboard/Rice%2C-Pasta%2C-Noodles-and-Cous-Cous/Rice/Spekko-Saman-White-Long-Grain-Rice-1kg/p/10427894EA',\n",
       " '/All-Departments/Food/Food-Cupboard/Rice%2C-Pasta%2C-Noodles-and-Cous-Cous/Rice/Spekko-Saman-Brown-Long-Grain-Parboiled-Rice-1kg/p/10427897EA',\n",
       " '/All-Departments/Food/Food-Cupboard/Rice%2C-Pasta%2C-Noodles-and-Cous-Cous/Rice/Spekko-India-Gate-Basmati-Long-Grain-White-Rice-1kg/p/10427896EA',\n",
       " '/All-Departments/Food/Food-Cupboard/Rice%2C-Pasta%2C-Noodles-and-Cous-Cous/Rice/Spekko-Royal-Umbrella-Jasmine-Long-Grain-White-Rice-1kg/p/10427895EA',\n",
       " '/All-Departments/Food/Food-Cupboard/Rice%2C-Pasta%2C-Noodles-and-Cous-Cous/Rice/Tastic-Soft-and-Absorbing-Long-Grain-White-Rice-2kg/p/10621918EA']"
      ]
     },
     "execution_count": 59,
     "metadata": {},
     "output_type": "execute_result"
    }
   ],
   "source": []
  },
  {
   "cell_type": "code",
   "execution_count": 60,
   "id": "e5655d8f-bd45-4db5-a53c-2f31d557b0b6",
   "metadata": {},
   "outputs": [
    {
     "name": "stdin",
     "output_type": "stream",
     "text": [
      "select brand >  4\n"
     ]
    }
   ],
   "source": [
    "user_choice = input('select brand > ')"
   ]
  },
  {
   "cell_type": "code",
   "execution_count": 64,
   "id": "3de9fe9e-97c1-4456-9ab2-296c3a995d4b",
   "metadata": {},
   "outputs": [
    {
     "name": "stdout",
     "output_type": "stream",
     "text": [
      "html downloaded successfully\n"
     ]
    }
   ],
   "source": [
    "html = evaluate_user_choice(user_choice, product_match, product_brands, \"rice 1kg\")"
   ]
  },
  {
   "cell_type": "code",
   "execution_count": 66,
   "id": "8983f29f-93c6-441e-aeb8-0fbcd3932960",
   "metadata": {},
   "outputs": [],
   "source": [
    "product_details = get_product_details(html)"
   ]
  },
  {
   "cell_type": "code",
   "execution_count": 67,
   "id": "1de9e397-26e8-4294-8452-eca3bd5c5564",
   "metadata": {},
   "outputs": [
    {
     "data": {
      "text/plain": [
       "{'Brand': 'Tastic',\n",
       " 'Name': 'Tastic Basmati Rice 1kg',\n",
       " 'Description': 'Rices of the world - aromatic Indian rice.',\n",
       " 'Regular Price': '54.99',\n",
       " 'Promo Price': '39.99',\n",
       " 'Promo Condition': ' with card',\n",
       " 'Product Image': 'https://www.shoprite.co.za/medias/10131340EA-20190726-Media-checkers515Wx515H?context=bWFzdGVyfGltYWdlc3wyNzkwMTd8aW1hZ2UvcG5nfGltYWdlcy9oZDMvaGQ0Lzg4NjEwMDk5MzY0MTQucG5nfGY4MGI2ZGNiYWNkNTdkMDYxNmE3Zjk4YmY1MTI3NGY0MThjNzZkZjE2NmE2ZmI4Yzc5OGFiN2EyODhjYWUxMWM'}"
      ]
     },
     "execution_count": 67,
     "metadata": {},
     "output_type": "execute_result"
    }
   ],
   "source": [
    "product_details"
   ]
  },
  {
   "cell_type": "code",
   "execution_count": null,
   "id": "0b60c15f-dd85-41b1-96d3-580821edd42d",
   "metadata": {},
   "outputs": [],
   "source": []
  }
 ],
 "metadata": {
  "kernelspec": {
   "display_name": "Python 3 (ipykernel)",
   "language": "python",
   "name": "python3"
  },
  "language_info": {
   "codemirror_mode": {
    "name": "ipython",
    "version": 3
   },
   "file_extension": ".py",
   "mimetype": "text/x-python",
   "name": "python",
   "nbconvert_exporter": "python",
   "pygments_lexer": "ipython3",
   "version": "3.9.12"
  }
 },
 "nbformat": 4,
 "nbformat_minor": 5
}
