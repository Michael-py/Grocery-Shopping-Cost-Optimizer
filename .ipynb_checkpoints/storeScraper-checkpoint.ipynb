{
 "cells": [
  {
   "cell_type": "code",
   "execution_count": 88,
   "id": "6872b5bd-5290-4975-bb92-4f68aa06d032",
   "metadata": {},
   "outputs": [],
   "source": [
    "import re\n",
    "import time\n",
    "import warnings\n",
    "import requests\n",
    "import geocoder\n",
    "import numpy as np\n",
    "import pandas as p\n",
    "from bs4 import BeautifulSoup as soup\n",
    "from selenium import webdriver\n",
    "from selenium.webdriver.chrome.options import Options\n",
    "from selenium.webdriver.common.keys import Keys\n",
    "from selenium.webdriver.common.by import By\n",
    "warnings.filterwarnings('ignore')"
   ]
  },
  {
   "cell_type": "code",
   "execution_count": 89,
   "id": "c02653f2-57d1-4fdd-9151-565d273a3113",
   "metadata": {},
   "outputs": [],
   "source": [
    "CHECKERS_SEARCH_URL = 'https://www.checkers.co.za/search/all?q='\n",
    "CHECKERS_URL = 'https://www.checkers.co.za'"
   ]
  },
  {
   "cell_type": "code",
   "execution_count": 90,
   "id": "db441260-419b-4185-ac06-ab38ca208fb3",
   "metadata": {},
   "outputs": [],
   "source": [
    "options = Options()\n",
    "options.headless = False\n",
    "driver = webdriver.Chrome(options=options)\n",
    "driver.implicitly_wait(10)"
   ]
  },
  {
   "cell_type": "code",
   "execution_count": 91,
   "id": "81d97bad-29d9-4df7-a2e4-2460d01782db",
   "metadata": {},
   "outputs": [
    {
     "name": "stdout",
     "output_type": "stream",
     "text": [
      "waiting for full page load...\n"
     ]
    }
   ],
   "source": [
    "try:\n",
    "    driver.get(CHECKERS_URL)\n",
    "\n",
    "except Exception:\n",
    "    print('waiting for full page load...')"
   ]
  },
  {
   "cell_type": "code",
   "execution_count": 92,
   "id": "3094d1b1-520c-4369-bfce-fbc0a26f3b1f",
   "metadata": {},
   "outputs": [],
   "source": [
    "store_button = driver.find_element(By.CLASS_NAME, 'header__your-store')"
   ]
  },
  {
   "cell_type": "code",
   "execution_count": 93,
   "id": "1c946c71-bdd3-4d94-ac56-59e06999d719",
   "metadata": {},
   "outputs": [],
   "source": [
    "store_button.click()"
   ]
  },
  {
   "cell_type": "code",
   "execution_count": 94,
   "id": "a7d7edd1-2bef-4503-afaa-5dacb383798c",
   "metadata": {},
   "outputs": [],
   "source": [
    "input_box = store_button.find_element(By.ID, 'storeFinderInput')"
   ]
  },
  {
   "cell_type": "code",
   "execution_count": 95,
   "id": "e7eebab9-c6c5-4ed0-883f-9febdd753afc",
   "metadata": {},
   "outputs": [],
   "source": [
    "input_box.clear()\n",
    "input_box.send_keys('cape town')\n",
    "input_box.send_keys(Keys.RETURN)"
   ]
  },
  {
   "cell_type": "code",
   "execution_count": 96,
   "id": "f43b0ffb-b246-49ce-b736-42ac1f345d67",
   "metadata": {},
   "outputs": [],
   "source": [
    "stores = driver.find_elements(By.CLASS_NAME, 'nav-store-your-results')"
   ]
  },
  {
   "cell_type": "code",
   "execution_count": 97,
   "id": "a393ad51-941f-4b8e-ba33-286d0063da32",
   "metadata": {},
   "outputs": [],
   "source": [
    "stores_list = []\n",
    "\n",
    "for store in stores:\n",
    "    # stores_dict = {}\n",
    "    store_name = store.find_element(By.TAG_NAME, 'a').get_attribute('innerHTML').strip()\n",
    "    store_distance = store.find_element(By.CLASS_NAME, 'store-distance').find_element(By.TAG_NAME, 'span').get_attribute('innerHTML').strip()\n",
    "    # stores_dict['store_name'] = store_name\n",
    "    # stores_dict['distance'] = store_distance\n",
    "    \n",
    "    stores_list.append((store_name, store_distance))\n",
    "\n",
    "    # print(store_name)"
   ]
  },
  {
   "cell_type": "code",
   "execution_count": 98,
   "id": "c3063cb6-f500-4947-85ad-e1e2562c5849",
   "metadata": {},
   "outputs": [
    {
     "data": {
      "text/plain": [
       "[('Shoprite Nyanga Junction', '4,906.7 Km'),\n",
       " ('Shoprite Makhaza', '4,916.3 Km'),\n",
       " ('Shoprite Khayelitsha', '4,913.2 Km'),\n",
       " ('Shoprite Langa', '4,900.1 Km'),\n",
       " ('Shoprite Gugulethu', '4,906.4 Km')]"
      ]
     },
     "execution_count": 98,
     "metadata": {},
     "output_type": "execute_result"
    }
   ],
   "source": [
    "stores_list"
   ]
  },
  {
   "cell_type": "code",
   "execution_count": 99,
   "id": "e8b9722d-1e34-4576-afaf-bc6483d10032",
   "metadata": {},
   "outputs": [
    {
     "name": "stdin",
     "output_type": "stream",
     "text": [
      "select desired store >  Shoprite Khayelitsha\n"
     ]
    }
   ],
   "source": [
    "user_choice = input('select desired store > ')"
   ]
  },
  {
   "cell_type": "code",
   "execution_count": 100,
   "id": "ebc5cd64-cea8-495d-8aeb-a9c803ae4a43",
   "metadata": {},
   "outputs": [],
   "source": [
    "input_box.clear()\n",
    "input_box.send_keys(user_choice)\n",
    "input_box.send_keys(Keys.RETURN)"
   ]
  },
  {
   "cell_type": "code",
   "execution_count": 101,
   "id": "22aa5f04-c333-427e-968d-3762014b3712",
   "metadata": {},
   "outputs": [],
   "source": [
    "store_wanted = driver.find_element(By.CLASS_NAME, 'nav-store-your-results')"
   ]
  },
  {
   "cell_type": "code",
   "execution_count": 102,
   "id": "acafc034-e49c-40a0-88a0-c778dcea8d36",
   "metadata": {},
   "outputs": [],
   "source": [
    "select_store_button_container = store_wanted.find_element(By.CLASS_NAME, 'sl-container')"
   ]
  },
  {
   "cell_type": "code",
   "execution_count": 103,
   "id": "5f9a596b-e831-49a6-94a2-460af4857179",
   "metadata": {},
   "outputs": [],
   "source": [
    "button = select_store_button_container.find_element(By.TAG_NAME, 'button')\n",
    "\n",
    "button.click()"
   ]
  },
  {
   "cell_type": "code",
   "execution_count": 171,
   "id": "e58c4950-ff93-4fe0-9936-11039a789e93",
   "metadata": {},
   "outputs": [],
   "source": [
    "FOOD_BASKET = ['large eggs 6', 'large eggs 18', 'extra large eggs 30', 'table salt 500g',\n",
    "               'table salt 1kg', 'rice 2kg', 'rice 5kg', 'rice 1kg', 'rice canister 10l', \n",
    "              'sugar 500g', 'sugar 1kg', 'sugar 2.5kg', 'sugar 5kg', 'sugar 10kg',\n",
    "              'flour 500g', 'flour 1kg', 'flour 2.5kg', 'flour 5kg', 'flour 10kg',\n",
    "              'frozen chicken', 'pork bangers', 'pork rashers', 'pork loin chops',\n",
    "              'pork braai chops', 'pork chops', 'pork shoulder ribs', 'stewing pork',\n",
    "              'beef goulash', 'ground beef', 'beef parcel', 'beef brisket', 'coarse salt 500g',\n",
    "              'fine salt 500g', 'medium salt 500g']"
   ]
  },
  {
   "cell_type": "code",
   "execution_count": 227,
   "id": "9c5db04d-34a5-4303-a16c-0e0a773a8cf9",
   "metadata": {},
   "outputs": [],
   "source": [
    "user_basket = ['rice 2kg', 'salt 1kg', 'beef goulash']"
   ]
  },
  {
   "cell_type": "code",
   "execution_count": 228,
   "id": "f399c29e-cd7c-438c-b847-527b31781f43",
   "metadata": {},
   "outputs": [],
   "source": [
    "def get_all(grocery):\n",
    "    headers={'User-Agent': 'Mozilla/5.0 (Windows NT 10.0; Win64; x64) AppleWebKit/537.36 (KHTML, like Gecko) Chrome/102.0.0.0 Safari/537.36'}\n",
    "    response = requests.get(CHECKERS_SEARCH_URL+grocery, verify=False, headers=headers, timeout=10)\n",
    "    page = soup(response.content, 'html.parser')\n",
    "    item_div = page.find_all('div', class_='item-product')\n",
    "    print(\"html downloaded\")\n",
    "    products = []\n",
    "\n",
    "    for item in item_div:\n",
    "        product = {}\n",
    "        name = item.find('h3', class_='item-product__name').get_text().strip()\n",
    "        price = item.find('div', class_='special-price__price').get_text().strip().lstrip('R')\n",
    "        url = item.find('div', class_='item-product__image').find('a')['href']\n",
    "        image = item.find('div', class_='item-product__image').find('a').find('img')['src']\n",
    "\n",
    "        product['product_name'] = name\n",
    "        product['product_price'] = re.search(r'\\d+\\.\\d+', price).group()\n",
    "        product['product_image'] = CHECKERS_URL+image\n",
    "        product['product_url'] = CHECKERS_URL+url\n",
    "\n",
    "        products.append(product)\n",
    "    print('product details extracted')\n",
    "    # products we want\n",
    "\n",
    "    product_wanted = []\n",
    "\n",
    "    url_pat = r'([\\w+-/%?:\\.]+' + str(grocery.replace(' ', '\\-')) + '[\\w+-/%?]+)'\n",
    "\n",
    "    for prod_dict in products:\n",
    "        match = re.match(url_pat, prod_dict['product_url'].lower())\n",
    "\n",
    "        if match:\n",
    "            product_wanted.append(prod_dict)\n",
    "\n",
    "        else:\n",
    "            pass\n",
    "            \n",
    "    \n",
    "    scraped_prods = [{y: x['product_name']} for y, x in enumerate(product_wanted)]\n",
    "    \n",
    "    print(scraped_prods)\n",
    "    \n",
    "    user_prod_selection = input('select choice product > ')\n",
    "    \n",
    "    product_name = ''\n",
    "    \n",
    "    try:\n",
    "        for i in scraped_prods:\n",
    "            for j, k in i.items():\n",
    "                if j == eval(user_prod_selection):\n",
    "                    product_name += k\n",
    "    except Exception:\n",
    "        pass\n",
    "        \n",
    "    for prod in product_wanted:\n",
    "        try:\n",
    "            if prod['product_name'] == product_name:\n",
    "                return prod['product_name'], prod['product_price']\n",
    "        except Exception:\n",
    "            pass\n",
    "    "
   ]
  },
  {
   "cell_type": "code",
   "execution_count": 233,
   "id": "d153c1a2-d31b-4759-8788-488464ba5139",
   "metadata": {},
   "outputs": [
    {
     "name": "stdout",
     "output_type": "stream",
     "text": [
      "html downloaded\n",
      "product details extracted\n",
      "[{0: 'Tastic Soft & Absorbing Long Grain White Rice 2kg'}, {1: 'Deliso Indian White Long Grain Parboiled Rice 2kg'}, {2: 'Deliso Thai White Long Grained Parboiled Rice 2kg'}, {3: 'Bimrie Jasmine Rice 2kg'}, {4: \"Tastic Nature's Brown Rice 2kg\"}, {5: 'Tastic Wholegrain Brown Rice 2kg'}, {6: 'Tastic Long Grain Parboiled Rice 2kg'}, {7: 'Checkers Housebrand Parboiled White Rice 2kg'}, {8: 'Tastic Jasmine Fragrant Thai Rice 2kg'}, {9: 'Anika White Thai Long Grain Rice 2kg'}]\n"
     ]
    },
    {
     "name": "stdin",
     "output_type": "stream",
     "text": [
      "select choice product >  0\n"
     ]
    },
    {
     "name": "stdout",
     "output_type": "stream",
     "text": [
      "html downloaded\n",
      "product details extracted\n",
      "[{0: 'Marina Dishwasher Salt 1kg'}, {1: 'Cerebos Iodated Table Salt 1kg'}, {2: 'Cerebos Iodated Sea Salt 1KG Pack'}, {3: 'Kim Iodated Coarse Salt 1kg'}, {4: 'Checkers Housebrand Table Salt 1kg'}, {5: 'Buffalo Fine Sea Salt 1kg'}, {6: 'Salnova Iodated Coarse Sea Salt 1kg'}, {7: 'Salgo Refined Refined Coarse Dishwasher Salt 1kg'}]\n"
     ]
    },
    {
     "name": "stdin",
     "output_type": "stream",
     "text": [
      "select choice product >  0\n"
     ]
    },
    {
     "name": "stdout",
     "output_type": "stream",
     "text": [
      "html downloaded\n",
      "product details extracted\n",
      "[{0: 'Beef Goulash Per kg'}, {1: 'Beef Goulash & Marrow Bone Soup Pack Per kg'}]\n"
     ]
    },
    {
     "name": "stdin",
     "output_type": "stream",
     "text": [
      "select choice product >  0\n"
     ]
    }
   ],
   "source": [
    "eval_prod = []\n",
    "sum_total = 0\n",
    "\n",
    "\n",
    "for store in stores:\n",
    "    for item in user_basket:\n",
    "        eval_products = {}\n",
    "        prod_name, prod_price = get_all(item)\n",
    "\n",
    "        eval_products['name'] = prod_name\n",
    "        eval_products['price'] = prod_price\n",
    "        sum_total += eval(prod_price)\n",
    "        eval_prod.append(eval_products)"
   ]
  },
  {
   "cell_type": "code",
   "execution_count": 234,
   "id": "bc3428ca-c2f9-4488-b61c-d75625c315c6",
   "metadata": {},
   "outputs": [],
   "source": [
    "df = pd.DataFrame(eval_prod, columns=['name', 'price'])"
   ]
  },
  {
   "cell_type": "code",
   "execution_count": 238,
   "id": "bb2eb76a-a12f-421e-b8dd-de20ead86a3a",
   "metadata": {},
   "outputs": [
    {
     "data": {
      "text/html": [
       "<div>\n",
       "<style scoped>\n",
       "    .dataframe tbody tr th:only-of-type {\n",
       "        vertical-align: middle;\n",
       "    }\n",
       "\n",
       "    .dataframe tbody tr th {\n",
       "        vertical-align: top;\n",
       "    }\n",
       "\n",
       "    .dataframe thead th {\n",
       "        text-align: right;\n",
       "    }\n",
       "</style>\n",
       "<table border=\"1\" class=\"dataframe\">\n",
       "  <thead>\n",
       "    <tr style=\"text-align: right;\">\n",
       "      <th></th>\n",
       "      <th>name</th>\n",
       "      <th>price</th>\n",
       "    </tr>\n",
       "  </thead>\n",
       "  <tbody>\n",
       "    <tr>\n",
       "      <th>0</th>\n",
       "      <td>Tastic Soft &amp; Absorbing Long Grain White Rice 2kg</td>\n",
       "      <td>35.99</td>\n",
       "    </tr>\n",
       "    <tr>\n",
       "      <th>1</th>\n",
       "      <td>Marina Dishwasher Salt 1kg</td>\n",
       "      <td>18.99</td>\n",
       "    </tr>\n",
       "    <tr>\n",
       "      <th>2</th>\n",
       "      <td>Beef Goulash Per kg</td>\n",
       "      <td>129.99</td>\n",
       "    </tr>\n",
       "    <tr>\n",
       "      <th>0</th>\n",
       "      <td>Total</td>\n",
       "      <td>184.97</td>\n",
       "    </tr>\n",
       "  </tbody>\n",
       "</table>\n",
       "</div>"
      ],
      "text/plain": [
       "                                                name   price\n",
       "0  Tastic Soft & Absorbing Long Grain White Rice 2kg   35.99\n",
       "1                         Marina Dishwasher Salt 1kg   18.99\n",
       "2                                Beef Goulash Per kg  129.99\n",
       "0                                              Total  184.97"
      ]
     },
     "execution_count": 238,
     "metadata": {},
     "output_type": "execute_result"
    }
   ],
   "source": [
    "df.append([{'name': 'Total', 'price': sum_total}])"
   ]
  },
  {
   "cell_type": "code",
   "execution_count": null,
   "id": "d12da999-d682-485b-8107-7f46928b2fa6",
   "metadata": {},
   "outputs": [],
   "source": []
  },
  {
   "cell_type": "code",
   "execution_count": null,
   "id": "671dc575-6513-4749-8a8c-9a8f7078c307",
   "metadata": {},
   "outputs": [],
   "source": []
  },
  {
   "cell_type": "code",
   "execution_count": null,
   "id": "43b54dca-820c-422d-8370-fe0b9ed9143c",
   "metadata": {},
   "outputs": [],
   "source": []
  },
  {
   "cell_type": "code",
   "execution_count": 209,
   "id": "a171e5e1-b0da-4624-97bd-44f719ed85e0",
   "metadata": {},
   "outputs": [],
   "source": [
    "y = []\n",
    "\n",
    "for i in y:\n",
    "    print(i)"
   ]
  },
  {
   "cell_type": "code",
   "execution_count": null,
   "id": "172e8d44-d2a8-4631-9b17-d1ba442cc47b",
   "metadata": {},
   "outputs": [],
   "source": []
  },
  {
   "cell_type": "code",
   "execution_count": null,
   "id": "cbed7f32-02f0-4848-a0bd-35e9b90f526a",
   "metadata": {},
   "outputs": [],
   "source": []
  },
  {
   "cell_type": "code",
   "execution_count": 178,
   "id": "28317d74-402d-4de0-adfc-ac8f39f9ec6b",
   "metadata": {},
   "outputs": [],
   "source": [
    "a, b = (0, 9)"
   ]
  },
  {
   "cell_type": "code",
   "execution_count": 179,
   "id": "ae5a4308-8ea3-4e4a-bc42-29f4a5bedc86",
   "metadata": {},
   "outputs": [
    {
     "data": {
      "text/plain": [
       "0"
      ]
     },
     "execution_count": 179,
     "metadata": {},
     "output_type": "execute_result"
    }
   ],
   "source": [
    "a"
   ]
  },
  {
   "cell_type": "code",
   "execution_count": 220,
   "id": "2718c893-5e11-41d7-ae55-5bf2605b86b0",
   "metadata": {},
   "outputs": [],
   "source": [
    "headers={'User-Agent': 'Mozilla/5.0 (Windows NT 10.0; Win64; x64) AppleWebKit/537.36 (KHTML, like Gecko) Chrome/102.0.0.0 Safari/537.36'}\n",
    "response = requests.get(CHECKERS_SEARCH_URL+'stewing pork', verify=False, headers=headers, timeout=10)\n",
    "page = soup(response.content, 'html.parser')"
   ]
  },
  {
   "cell_type": "code",
   "execution_count": 221,
   "id": "bd28cd51-b8b4-403c-978f-638d3c682709",
   "metadata": {},
   "outputs": [],
   "source": [
    "item_div = page.find_all('div', class_='item-product')"
   ]
  },
  {
   "cell_type": "code",
   "execution_count": 222,
   "id": "039c61f8-9cdd-4617-9695-fb4f49b02d67",
   "metadata": {},
   "outputs": [],
   "source": [
    "products = []\n",
    "\n",
    "for item in item_div:\n",
    "    product = {}\n",
    "    name = item.find('h3', class_='item-product__name').get_text().strip()\n",
    "    price = item.find('div', class_='special-price__price').get_text().strip().lstrip('R')\n",
    "    url = item.find('div', class_='item-product__image').find('a')['href']\n",
    "    image = item.find('div', class_='item-product__image').find('a').find('img')['src']\n",
    "\n",
    "    product['product_name'] = name\n",
    "    product['product_price'] = price\n",
    "    product['product_image'] = CHECKERS_URL+image\n",
    "    product['product_url'] = CHECKERS_URL+url\n",
    "\n",
    "    products.append(product)"
   ]
  },
  {
   "cell_type": "code",
   "execution_count": 223,
   "id": "8c8f6301-1053-427b-8813-4308dd767e30",
   "metadata": {},
   "outputs": [],
   "source": [
    "product_wanted = []\n",
    "\n",
    "url_pat = r'([\\w+-/%?:\\.]+' + str('stewing pork'.replace(' ', '\\-')) + '[\\w+-/%?]+)'\n",
    "\n",
    "for prod_dict in products:\n",
    "    match = re.match(url_pat, prod_dict['product_url'].lower())\n",
    "\n",
    "    if match:\n",
    "        product_wanted.append(prod_dict)\n",
    "\n",
    "    else:\n",
    "        pass\n",
    "\n",
    "scraped_prods = [{y: x['product_name']} for y, x in enumerate(product_wanted)]"
   ]
  },
  {
   "cell_type": "code",
   "execution_count": 226,
   "id": "6a0e752d-7a68-415b-8ee5-0b78be82169e",
   "metadata": {},
   "outputs": [
    {
     "data": {
      "text/plain": [
       "[{'product_name': 'Eskort Jalapeño Pork Sausages 375g',\n",
       "  'product_price': '54.99',\n",
       "  'product_image': 'https://www.checkers.co.za/medias/lqi-10634302EA-checkers300Wx300H?context=bWFzdGVyfGltYWdlc3wyMDU2fGltYWdlL3BuZ3xpbWFnZXMvaGQzL2g1Yi85OTY0NjU2MDk5MzU4LnBuZ3xkYjJiNjk0Y2E1ZGE4YjE5N2E4NGYxYjA5YTM5YTVhZjMzZTkyM2Y5MThkM2M2YzEwMDk2OGJlYjI5MmMzZGJh',\n",
       "  'product_url': 'https://www.checkers.co.za/All-Departments/Food/Fresh-Food/Cooked-Meats%2C-Sandwich-Fillers-and-Deli/Frankfurters%2C-Hotdogs-and-Sausage/Eskort-Jalape%C3%B1o-Pork-Sausages-375g/p/10634302EA'},\n",
       " {'product_name': 'Eskort Mediterranean Pork Sausages 375g',\n",
       "  'product_price': '54.99',\n",
       "  'product_image': 'https://www.checkers.co.za/medias/lqi-10634300EA-checkers300Wx300H?context=bWFzdGVyfGltYWdlc3wyMTQwfGltYWdlL3BuZ3xpbWFnZXMvaDdhL2hmMC85MDkwMDI1MjU5MDM4LnBuZ3xmZjRmYjAzNzgwM2U0ZWVlYTc0ODA4MWQ0ZjQ5MTNkZTZlZmU3ODViMmRjMGYwZjhkMGNjYWYyNmYyYTM0MDRi',\n",
       "  'product_url': 'https://www.checkers.co.za/All-Departments/Food/Fresh-Food/Cooked-Meats%2C-Sandwich-Fillers-and-Deli/Frankfurters%2C-Hotdogs-and-Sausage/Eskort-Mediterranean-Pork-Sausages-375g/p/10634300EA'},\n",
       " {'product_name': 'Eskort Pork-Free Chicken Polony 750g',\n",
       "  'product_price': '44.99',\n",
       "  'product_image': 'https://www.checkers.co.za/medias/lqi-10138142EA-checkers300Wx300H?context=bWFzdGVyfGltYWdlc3wxNjc3fGltYWdlL3BuZ3xpbWFnZXMvaGRhL2gyMS85OTY0NjEzMzA0MzUwLnBuZ3xjODU2YjFlMWJiN2MwMTAwZDA0NzVhYjI3YzgxOTAxMTNmODg0OWY3YWVlZGZlYTI5NTJlNWFjYmNkOGE4NTYz',\n",
       "  'product_url': 'https://www.checkers.co.za/All-Departments/Food/Fresh-Food/Cooked-Meats%2C-Sandwich-Fillers-and-Deli/Sandwich-Fillers/Eskort-Pork-Free-Chicken-Polony-750g/p/10138142EA'},\n",
       " {'product_name': 'Eskort Peppadew Peppers & Feta Pork Sausages 375g',\n",
       "  'product_price': '54.99',\n",
       "  'product_image': 'https://www.checkers.co.za/medias/lqi-10634301EA-checkers300Wx300H?context=bWFzdGVyfGltYWdlc3wyMTMxfGltYWdlL3BuZ3xpbWFnZXMvaDdkL2g2YS85MDkwMDI2MDQ1NDcwLnBuZ3w3NjUzNmVkNDFjYTM0Y2Q5N2Y0MmY3NjRjZWMzZThjOGIyOGVhNDM0MTY0NGY3MzI2MzE0ZTU3NDVjODFlN2Jj',\n",
       "  'product_url': 'https://www.checkers.co.za/All-Departments/Food/Fresh-Food/Cooked-Meats%2C-Sandwich-Fillers-and-Deli/Frankfurters%2C-Hotdogs-and-Sausage/Eskort-Peppadew-Peppers-and-Feta-Pork-Sausages-375g/p/10634301EA'},\n",
       " {'product_name': 'Farmstead Pork Stir Fry Pork Per kg',\n",
       "  'product_price': '99.99  Per Kg',\n",
       "  'product_image': 'https://www.checkers.co.za/medias/lqi-10151968KG-checkers300Wx300H?context=bWFzdGVyfGltYWdlc3wyODgwfGltYWdlL3BuZ3xpbWFnZXMvaDUzL2gzNC85MTA4NjYzNDY4MDYyLnBuZ3xjMWUxYTliN2E2ZDA4YTBmZTE0Y2FmNzY4NjIwYjYyODY3ODViNGQ2N2U3Mjg3Njc4YjQ1YjJjMjRjYTA4MTQy',\n",
       "  'product_url': 'https://www.checkers.co.za/All-Departments/Food/Fresh-Food/Fresh-Meat-and-Poultry/Fresh-Pork/Farmstead-Pork-Stir-Fry-Pork-Per-kg/p/10151968KG'},\n",
       " {'product_name': 'Beef Stew Meat Per kg',\n",
       "  'product_price': '109.90  Per Kg',\n",
       "  'product_image': 'https://www.checkers.co.za/medias/lqi-10141537KG-checkers300Wx300H?context=bWFzdGVyfGltYWdlc3wzMDA4fGltYWdlL3BuZ3xpbWFnZXMvaGNjL2hkMi85MTA5NDI3NTE5NTE4LnBuZ3wzMTYzMjQ3ZjE4MDZmZDgzMWU4YWYxYjFkYTg5YzRkMTQ4OTEyZTRhNWRlNjExZDYxYThhYTkzNWFiMTU1NjU5',\n",
       "  'product_url': 'https://www.checkers.co.za/All-Departments/Food/Fresh-Food/Fresh-Meat-and-Poultry/Fresh-Beef/Beef-Stew-Meat-Per-kg/p/10141537KG'},\n",
       " {'product_name': 'Soup & Stew Mix Pack 1.5kg',\n",
       "  'product_price': '42.99',\n",
       "  'product_image': 'https://www.checkers.co.za/medias/lqi-10471198EA-checkers300Wx300H?context=bWFzdGVyfGltYWdlc3wzNDU3fGltYWdlL3BuZ3xpbWFnZXMvaDcxL2hiNS85OTk4MDA2ODQ1NDcwLnBuZ3w5NDEyODUxMzMwNzE1NDNhNDNmMTk1Y2JiYmZiZmViMzZkODA0ZjU5YWE5YmRiN2M4YjdhNWE3NGRlOWRlM2Zh',\n",
       "  'product_url': 'https://www.checkers.co.za/All-Departments/Food/Fresh-Food/Fresh-Vegetables/Prepared-Vegetables/Soup-and-Stew-Mix-Pack-1-5kg/p/10471198EA'},\n",
       " {'product_name': 'Pork Bangers Per Kg',\n",
       "  'product_price': '99.99  Per Kg',\n",
       "  'product_image': 'https://www.checkers.co.za/medias/lqi-10150816KGv2-checkers300Wx300H?context=bWFzdGVyfGltYWdlc3wzMDc2fGltYWdlL3BuZ3xpbWFnZXMvaDdiL2gwYi85MTEwNzg0OTY2Njg2LnBuZ3w3YzBlOGIyMTljOTdhNDg5MTZlNjg1MjI1MTc3NmJmOTMxYTcxNjViZDY2OGZjODY4YzQ4Yjk0ZTM2NDAwN2Ex',\n",
       "  'product_url': 'https://www.checkers.co.za/All-Departments/Food/Fresh-Food/Fresh-Meat-and-Poultry/Prepared-Meat/Pork-Bangers-Per-Kg/p/10150816KG'},\n",
       " {'product_name': 'Pork Roast Per kg',\n",
       "  'product_price': '75.99  Per Kg',\n",
       "  'product_image': 'https://www.checkers.co.za/medias/lqi-10161841KG-checkers300Wx300H?context=bWFzdGVyfGltYWdlc3wyODM0fGltYWdlL3BuZ3xpbWFnZXMvaDM3L2g2My85MTA3OTI5OTU2MzgyLnBuZ3w5NWRlNGQxMDAxMmI4MzE3ZjBlMGMxODgyYWRhYTMyYzY2ODAxNTA0MWMzYTIyOWUwMDk4MDgzNDBmZmMxOGVk',\n",
       "  'product_url': 'https://www.checkers.co.za/All-Departments/Food/Fresh-Food/Fresh-Meat-and-Poultry/Fresh-Pork/Pork-Roast-Per-kg/p/10161841KG'},\n",
       " {'product_name': 'Pork Rashers Per kg',\n",
       "  'product_price': '99.99  Per Kg',\n",
       "  'product_image': 'https://www.checkers.co.za/medias/lqi-10151981KG-checkers300Wx300H?context=bWFzdGVyfGltYWdlc3wzMDAzfGltYWdlL3BuZ3xpbWFnZXMvaDcwL2gzMS85MDg5ODE2OTg1NjMwLnBuZ3wxYjVjMTlmNTBhNmZjZjExOTNhYWI3NjQ4MjZkMzI3NTFlNjlmN2Y3ZGFiMDIxMzdlOTg0M2UwZDRmMDI2YTYx',\n",
       "  'product_url': 'https://www.checkers.co.za/All-Departments/Food/Fresh-Food/Fresh-Meat-and-Poultry/Fresh-Pork/Pork-Rashers-Per-kg/p/10151981KG'}]"
      ]
     },
     "execution_count": 226,
     "metadata": {},
     "output_type": "execute_result"
    }
   ],
   "source": [
    "products"
   ]
  },
  {
   "cell_type": "code",
   "execution_count": null,
   "id": "0af69a89-4efa-4c6a-8bcf-b28566d5b217",
   "metadata": {},
   "outputs": [],
   "source": []
  }
 ],
 "metadata": {
  "kernelspec": {
   "display_name": "Python 3 (ipykernel)",
   "language": "python",
   "name": "python3"
  },
  "language_info": {
   "codemirror_mode": {
    "name": "ipython",
    "version": 3
   },
   "file_extension": ".py",
   "mimetype": "text/x-python",
   "name": "python",
   "nbconvert_exporter": "python",
   "pygments_lexer": "ipython3",
   "version": "3.9.12"
  }
 },
 "nbformat": 4,
 "nbformat_minor": 5
}
