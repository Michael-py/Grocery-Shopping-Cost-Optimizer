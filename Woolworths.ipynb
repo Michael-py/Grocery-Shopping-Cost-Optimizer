{
 "cells": [
  {
   "cell_type": "code",
   "execution_count": 50,
   "id": "2745a054",
   "metadata": {},
   "outputs": [],
   "source": [
    "from selenium import webdriver\n",
    "from bs4 import BeautifulSoup\n",
    "from selenium.webdriver.common.by import By\n",
    "from selenium.webdriver.common.keys import Keys"
   ]
  },
  {
   "cell_type": "code",
   "execution_count": 46,
   "id": "6ad9156d",
   "metadata": {},
   "outputs": [],
   "source": [
    "driver = webdriver.Chrome()"
   ]
  },
  {
   "cell_type": "code",
   "execution_count": 47,
   "id": "959b2014",
   "metadata": {},
   "outputs": [],
   "source": [
    "PNP_SEARCH_URL = 'https://www.pnp.co.za/pnpstorefront/pnp/en/search/?text='\n",
    "PNP_URL = 'https://www.pnp.co.za'"
   ]
  },
  {
   "cell_type": "code",
   "execution_count": 48,
   "id": "f528c3b4",
   "metadata": {},
   "outputs": [],
   "source": [
    "driver.get(PNP_URL)\n",
    "driver.implicitly_wait(10)"
   ]
  },
  {
   "cell_type": "code",
   "execution_count": 51,
   "id": "7129b9ed-90d6-4f57-bb42-2d1e533d48b8",
   "metadata": {},
   "outputs": [],
   "source": [
    "custom_modal = driver.find_element(By.CLASS_NAME, 'modal-footer')"
   ]
  },
  {
   "cell_type": "code",
   "execution_count": 55,
   "id": "02e64045-1514-4f2f-945b-cf0d82421a04",
   "metadata": {},
   "outputs": [
    {
     "data": {
      "text/plain": [
       "'<button type=\"button\" name=\"policiesCloseButton\" class=\"btn btn-default close-button\" data-dismiss=\"modal\">Close</button><button type=\"button\" name=\"policiesAcceptButton\" class=\"btn btn-default accept-button\" data-dismiss=\"modal\">ACCEPT</button>'"
      ]
     },
     "execution_count": 55,
     "metadata": {},
     "output_type": "execute_result"
    }
   ],
   "source": [
    "custom_modal.get_attribute('innerHTML')"
   ]
  },
  {
   "cell_type": "code",
   "execution_count": 59,
   "id": "c85e7448-29e2-40d3-92d7-eb241f8e603b",
   "metadata": {},
   "outputs": [],
   "source": [
    "close_button = custom_modal.find_element(By.TAG_NAME, 'button')"
   ]
  },
  {
   "cell_type": "code",
   "execution_count": 60,
   "id": "1fd6255d-2221-429b-bc78-bbf783d0a78f",
   "metadata": {},
   "outputs": [
    {
     "data": {
      "text/plain": [
       "'Close'"
      ]
     },
     "execution_count": 60,
     "metadata": {},
     "output_type": "execute_result"
    }
   ],
   "source": [
    "close_button.get_attribute('innerHTML')"
   ]
  },
  {
   "cell_type": "code",
   "execution_count": 62,
   "id": "6280fcba-4156-49ae-92ea-7ec536ecf07c",
   "metadata": {},
   "outputs": [],
   "source": [
    "close_button.send_keys(Keys.RETURN)"
   ]
  },
  {
   "cell_type": "code",
   "execution_count": null,
   "id": "31c7e3a5-46fa-4809-9f49-1d734de77588",
   "metadata": {},
   "outputs": [],
   "source": []
  }
 ],
 "metadata": {
  "kernelspec": {
   "display_name": "Python 3 (ipykernel)",
   "language": "python",
   "name": "python3"
  },
  "language_info": {
   "codemirror_mode": {
    "name": "ipython",
    "version": 3
   },
   "file_extension": ".py",
   "mimetype": "text/x-python",
   "name": "python",
   "nbconvert_exporter": "python",
   "pygments_lexer": "ipython3",
   "version": "3.9.12"
  }
 },
 "nbformat": 4,
 "nbformat_minor": 5
}
