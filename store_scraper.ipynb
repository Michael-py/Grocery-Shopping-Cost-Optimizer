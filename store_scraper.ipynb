{
 "cells": [
  {
   "cell_type": "code",
   "execution_count": 25,
   "id": "0c79d975-c570-4c54-a5d1-7aa7f225d160",
   "metadata": {},
   "outputs": [],
   "source": [
    "from bs4 import BeautifulSoup as soup\n",
    "from IPython.display import display_html\n",
    "from lxml import etree\n",
    "import numpy as np\n",
    "import pandas as pd\n",
    "import requests\n",
    "import warnings\n",
    "import time\n",
    "import re\n",
    "warnings.filterwarnings('ignore')"
   ]
  },
  {
   "cell_type": "code",
   "execution_count": 51,
   "id": "3932610e-75a5-42f7-ab1a-68b65d19eb0f",
   "metadata": {},
   "outputs": [],
   "source": [
    "SHOPRITE_SEARCH_URL = 'https://www.shoprite.co.za/search/all?q='\n",
    "SHOPRITE_URL = 'https://www.shoprite.co.za'\n",
    "\n",
    "CHECKERS_SEARCH_URL = 'https://www.checkers.co.za/search/all?q='\n",
    "CHECKERS_URL = 'https://www.checkers.co.za/'\n",
    "\n",
    "WOOLWORTHS_SEARCH_URL = 'https://www.woolworths.co.za/cat/Food/Pantry/_/N-1lw4dzx'\n",
    "WOOLWORTHS_URL = 'https://www.woolworths.co.za/'"
   ]
  },
  {
   "cell_type": "code",
   "execution_count": 3,
   "id": "36ae7c98-67f5-4860-8ad4-7230bf376efc",
   "metadata": {},
   "outputs": [],
   "source": [
    "FOOD_BASKET = ['large eggs 6', 'large eggs 18', 'extra large eggs 30', 'table salt 500g',\n",
    "               'table salt 1kg', 'rice 2kg', 'rice 5kg', 'rice 1kg', 'rice canister 10l', \n",
    "              'sugar 500g', 'sugar 1kg', 'sugar 2.5kg', 'sugar 5kg', 'sugar 10kg',\n",
    "              'flour 500g', 'flour 1kg', 'flour 2.5kg', 'flour 5kg', 'flour 10kg',\n",
    "              'frozen chicken', 'pork bangers', 'pork rashers', 'pork loin chops',\n",
    "              'pork braai chops', 'pork chops', 'pork shoulder ribs', 'stewing pork',\n",
    "              'beef goulash', 'ground beef', 'beef parcel', 'beef brisket', 'coarse salt 500g',\n",
    "              'fine salt 500g', 'medium salt 500g']"
   ]
  },
  {
   "cell_type": "code",
   "execution_count": 20,
   "id": "3e499fe6-9629-4917-88ca-8b06866bc8ce",
   "metadata": {},
   "outputs": [],
   "source": [
    "user_basket = np.random.choice(FOOD_BASKET, 1)"
   ]
  },
  {
   "cell_type": "code",
   "execution_count": 5,
   "id": "ea30d4d6-852f-47a8-8d55-c07629b3214d",
   "metadata": {},
   "outputs": [],
   "source": [
    "def fetch_html(url):\n",
    "    headers={'User-Agent': 'Mozilla/5.0 (Windows NT 10.0; Win64; x64) AppleWebKit/537.36 (KHTML, like Gecko) Chrome/102.0.0.0 Safari/537.36'}\n",
    "    response = requests.get(url, verify=False, headers=headers, timeout=10)\n",
    "    print(\"html downloaded successfully\")\n",
    "    page = soup(response.content, 'html.parser')\n",
    "\n",
    "    return page"
   ]
  },
  {
   "cell_type": "code",
   "execution_count": 6,
   "id": "8d36e635-ba40-4809-8589-07f7724e3739",
   "metadata": {},
   "outputs": [],
   "source": [
    "def extract_product_links(html_page):\n",
    "  \n",
    "    product_div = html_page.find('div', {\"class\": re.compile('(\\w+-)*search-landing')})\n",
    "    content = product_div.find('div', class_='yCmsContentSlot')\n",
    "    component = content.find('div', class_='yCmsComponent')\n",
    "    product_wrappers = component.find('div', class_='search-landing__block--products')\n",
    "    product_row = product_wrappers.find('div', class_='row')\n",
    "    products = product_row.findAll('div', class_='product-frame')\n",
    "    \n",
    "    links = []\n",
    "    for product in products:\n",
    "        figure = product.find('figure')\n",
    "        product_link = figure.find('a', href=True)['href']\n",
    "        links.append(product_link)\n",
    "    \n",
    "    return links"
   ]
  },
  {
   "cell_type": "code",
   "execution_count": 7,
   "id": "65e4acbb-b3c7-47bd-a8f1-930c842d6b6e",
   "metadata": {},
   "outputs": [],
   "source": [
    "def match_product_url(links_arr, item):\n",
    "    \n",
    "    pattern = r'([\\w+-/%?]+' + str(item.replace(' ', '\\-')) + '[\\w+-/%?]+)'\n",
    "\n",
    "    found = []\n",
    "\n",
    "    for link in links_arr:\n",
    "        try:\n",
    "            match = re.search(pattern, link.lower()).group()\n",
    "            found.append({link: match})\n",
    "        except Exception:\n",
    "            None\n",
    "    \n",
    "    return found"
   ]
  },
  {
   "cell_type": "code",
   "execution_count": 8,
   "id": "8cdb460a-52e0-4fea-9875-d21ae02b73d8",
   "metadata": {},
   "outputs": [],
   "source": [
    "def extract_brand(link):\n",
    "    \n",
    "    text = list(link.values())[0].split('/')[-3]\n",
    "    \n",
    "    try:\n",
    "        value = re.search(r'(\\d+(\\-)?\\d+)', text).group()\n",
    "        new_link = re.sub(value, value.replace('-', '.'), text)\n",
    "        \n",
    "    except Exception:\n",
    "        new_link = text\n",
    "    \n",
    "    \n",
    "    return new_link.replace('-', ' ').title()"
   ]
  },
  {
   "cell_type": "code",
   "execution_count": 9,
   "id": "b9d795e4-335c-4db7-b9e2-f654ddc7db30",
   "metadata": {},
   "outputs": [],
   "source": [
    "def get_brands(arr_links):\n",
    "    \n",
    "    brands = []\n",
    "    counter = 1\n",
    "    \n",
    "    for item in arr_links:\n",
    "        brands.append({counter: extract_brand(item)})\n",
    "        counter+=1\n",
    "        \n",
    "    return brands"
   ]
  },
  {
   "cell_type": "code",
   "execution_count": 10,
   "id": "5bc710d8-86f5-4074-8362-bff18ad48d95",
   "metadata": {},
   "outputs": [],
   "source": [
    "def evaluate_user_choice(user_choice, links, matching_product_urls, brands, item, store_url):\n",
    "    \n",
    "    html = \"\"\n",
    "    for brand in brands:\n",
    "        for key, value in brand.items():\n",
    "            if eval(user_choice) == key:\n",
    "                k_found = match_product_url(list(matching_product_urls[0].keys()), item)\n",
    "                if len(k_found) == 0:\n",
    "                    k_found = closest_products(links, matching_product_urls)\n",
    "                url = list(k_found[0].keys())[0]\n",
    "                k_fetch = fetch_html(store_url+url)\n",
    "                html = k_fetch\n",
    "                \n",
    "    return html"
   ]
  },
  {
   "cell_type": "code",
   "execution_count": 11,
   "id": "3f61327b-f863-4aa5-a499-87e3caa4bc54",
   "metadata": {},
   "outputs": [],
   "source": [
    "def get_product_details(html):\n",
    "    product_specs = {}\n",
    "    \n",
    "    product_div = html.find('div', class_='pdp')\n",
    "    product_details = product_div.find('div', class_='pdp__details')\n",
    "    regex = r'\\d+\\.\\d+'\n",
    "    price = re.search(regex, product_details.find('div', class_='special-price__price').find('span').get_text().strip().lstrip('R')).group()\n",
    "\n",
    "    try:\n",
    "        promo_price = product_details.find('div', class_='special-price__extra').find('span').get_text().strip().lstrip('R')\n",
    "        promo_condition = product_details.find('span', class_='special-price__extra__text').get_text()\n",
    "    except Exception:\n",
    "        promo_price = None\n",
    "        promo_condition = None\n",
    "        \n",
    "    try:\n",
    "        extra_details = product_div.find('div', 'pdp__extras')\n",
    "        offer = extra_details.find('div', class_= 'extra-message').find('span', class_='extra-message__title').get_text().strip()\n",
    "        promo_price_1 = re.search(regex, offer).group()\n",
    "        promo_duration = extra_details.find('div', class_= 'extra-message').find('span', class_='extra-message__valid').get_text().strip().replace('&nbsp;' '')\n",
    "    except Exception:\n",
    "        offer = None\n",
    "        promo_price_1 = None\n",
    "        promo_duration = None\n",
    "    \n",
    "    if not promo_price and not promo_price_1:\n",
    "        promo_price = None\n",
    "        \n",
    "    elif not promo_price and promo_price_1:\n",
    "        promo_price = promo_price_1\n",
    "    \n",
    "    else:\n",
    "        promo_price = promo_price\n",
    "        \n",
    "    product_desc = product_details.find('div', class_='pdp__description').get_text()\n",
    "    product_name = product_details.find('h1', class_='pdp__name').get_text()\n",
    "    product_brand = product_name.split()[0]\n",
    "    product_image_url = SHOPRITE_URL + product_div.find('div', class_='pdp__image').find('img')['src']\n",
    "\n",
    "    product_specs['Brand'] = product_brand\n",
    "    product_specs['Name'] = product_name + \"**\" if promo_price and (price > promo_price) else product_name\n",
    "    product_specs['Description'] = product_desc\n",
    "    product_specs['Regular Price'] = price\n",
    "    product_specs['Offer'] = offer\n",
    "    product_specs['Promo Price'] = promo_price\n",
    "    product_specs['Promo Condition'] = promo_condition\n",
    "    product_specs['Product Image'] = product_image_url\n",
    "    \n",
    "    return product_specs"
   ]
  },
  {
   "cell_type": "code",
   "execution_count": 12,
   "id": "d63aaf47-a449-4526-afc5-0c3eebf59138",
   "metadata": {},
   "outputs": [],
   "source": [
    "def total_cost(basket_details):\n",
    "    \n",
    "    receipt = {}\n",
    "    total_cost = 0\n",
    "    regular_total = 0\n",
    "\n",
    "    for item in basket_details:\n",
    "        if item['Promo Price'] and (item['Promo Price'] < item['Regular Price']):\n",
    "            price = item['Promo Price']\n",
    "        else:\n",
    "            price = item['Regular Price']\n",
    "\n",
    "        total_cost += float(price)\n",
    "        regular_total += float(item['Regular Price'])\n",
    "        \n",
    "        receipt[item['Name']] =  (price, item['Regular Price'])\n",
    "    \n",
    "    receipt['Total'] = (\"R \" + str(round(total_cost,2)), \"R \" + str(round(regular_total, 2)))\n",
    "    receipt['Savings'] = (f\"R {round(abs(total_cost - regular_total), 2)}\", \"-\")\n",
    "    \n",
    "    return receipt\n",
    "    "
   ]
  },
  {
   "cell_type": "code",
   "execution_count": 13,
   "id": "a5710794-2afe-4de3-93d8-fac5727780fd",
   "metadata": {},
   "outputs": [],
   "source": [
    "def closest_products(product_links, product_match):\n",
    "    all_matches = []\n",
    "    key = product_links\n",
    "    value = [link.lower() for link in product_links]\n",
    "    \n",
    "    for i in range(len(key)):\n",
    "        all_matches.append(dict(zip([key[i]], [value[i]])))\n",
    "    product_match = all_matches\n",
    "    \n",
    "    return product_match"
   ]
  },
  {
   "cell_type": "code",
   "execution_count": 14,
   "id": "8f9d0f88-3014-4923-b19a-f5c950a52daf",
   "metadata": {},
   "outputs": [],
   "source": [
    "def evaluate_user_basket(basket, search_url, store_url):\n",
    "    user_product_details = []\n",
    "\n",
    "    for item in basket:\n",
    "        search_result = fetch_html(search_url+item)\n",
    "        product_links = extract_product_links(search_result)\n",
    "        product_match = match_product_url(product_links, item)\n",
    "        if len(product_match) == 0:\n",
    "            product_match = closest_products(product_links, product_match)\n",
    "        product_brands = get_brands(product_match)\n",
    "\n",
    "        print(product_brands)\n",
    "\n",
    "        user_choice = input('select brand > ')\n",
    "        html = evaluate_user_choice(user_choice, product_links, product_match, product_brands, item, store_url)\n",
    "        product_details = get_product_details(html)\n",
    "\n",
    "        user_product_details.append(product_details)\n",
    "\n",
    "        basket_cost = total_cost(user_product_details)\n",
    "        \n",
    "    return basket_cost"
   ]
  },
  {
   "cell_type": "code",
   "execution_count": 15,
   "id": "969ed373-edf0-4cdd-b00d-63fbc933ab91",
   "metadata": {},
   "outputs": [],
   "source": [
    "def get_receipt(receipt):\n",
    "    receipt = pd.DataFrame.from_dict(receipt, orient='index',\n",
    "                                    columns=['Price', 'Regular Price'])\n",
    "\n",
    "    return receipt"
   ]
  },
  {
   "cell_type": "code",
   "execution_count": 16,
   "id": "0e5aa4f2-e046-491c-8c20-2ab0cc3a3c20",
   "metadata": {},
   "outputs": [],
   "source": [
    "def compare_stores(stores, user_basket):\n",
    "    receipts = []\n",
    "    promos = {}\n",
    "    for store in stores:\n",
    "        for name, urls in store.items():\n",
    "            store_receipt = evaluate_user_basket(basket=user_basket, search_url=urls[0], store_url=urls[1])\n",
    "            receipt = get_receipt(store_receipt)\n",
    "            promo_total = receipt.iloc[-2].values[0].strip('R').strip()\n",
    "            promos[name] = promo_total\n",
    "            receipt_styler = receipt.style\\\n",
    "                        .set_table_attributes(\"style='display:inline; margin-right:30px'\")\\\n",
    "                        .set_caption(name.upper() + ' RECEIPT')\n",
    "            \n",
    "            receipts.append(receipt_styler)\n",
    "    print(\"#\"*120)\n",
    "    display_html([tbl._repr_html_() for tbl in receipts], raw=True)\n",
    "    \n",
    "    min_total = min(promos.values())\n",
    "    for store, total in promos.items():\n",
    "        if total == min_total:\n",
    "            return (f\" WE RECOMMEND SHOPPING FROM {store} \".upper().center(100, \"*\"))"
   ]
  },
  {
   "cell_type": "code",
   "execution_count": 17,
   "id": "9463ff28-1d95-481a-a05e-f7416e088c8b",
   "metadata": {},
   "outputs": [],
   "source": [
    "stores = [{\"checkers\": (CHECKERS_SEARCH_URL, CHECKERS_URL)}]"
   ]
  },
  {
   "cell_type": "code",
   "execution_count": 18,
   "id": "39c3d675-4399-4eaa-bca4-98d5e0e8a79d",
   "metadata": {},
   "outputs": [
    {
     "name": "stdout",
     "output_type": "stream",
     "text": [
      "html downloaded successfully\n",
      "[{1: 'Buffalo Fine Sea Salt 500G'}, {2: 'Buffalo Fine Sea Salt 1Kg'}, {3: 'Imbo Fine Desiccated Coconut 500G'}, {4: 'Medirite Epsom Salts 500G'}, {5: 'Cerebos Iodated Table Salt 1Kg'}, {6: 'Cerebos Iodated Table Salt 500G'}, {7: 'Cerebos Iodated Table Salt Pack 1Kg'}, {8: 'Bonnita Salted Butter Brick 500G'}, {9: 'Kim Isodated Coarse Salt 500G'}, {10: 'Marina Lighthouse Salt Flask 500G'}]\n"
     ]
    },
    {
     "name": "stdin",
     "output_type": "stream",
     "text": [
      "select brand >  2\n"
     ]
    },
    {
     "name": "stdout",
     "output_type": "stream",
     "text": [
      "html downloaded successfully\n",
      "html downloaded successfully\n",
      "[{1: 'Lunds Large Eggs 6 Pack'}, {2: 'Lunds Extra Large Eggs 6 Pack'}, {3: 'Nulaid Premium Grade 1 Canola Large Eggs 6 X %3E51G'}, {4: 'Nulaid Premium Grade 1 Canola Extra Large Eggs 6 X %3E59G'}]\n"
     ]
    },
    {
     "name": "stdin",
     "output_type": "stream",
     "text": [
      "select brand >  3\n"
     ]
    },
    {
     "name": "stdout",
     "output_type": "stream",
     "text": [
      "html downloaded successfully\n",
      "html downloaded successfully\n",
      "[{1: 'Huletts White Sugar 2.5Kg'}, {2: 'Checkers Housebrand White Sugar 2.5Kg'}, {3: 'Huletts Kosher White Sugar 2.5Kg Bag'}]\n"
     ]
    },
    {
     "name": "stdin",
     "output_type": "stream",
     "text": [
      "select brand >  1\n"
     ]
    },
    {
     "name": "stdout",
     "output_type": "stream",
     "text": [
      "html downloaded successfully\n",
      "html downloaded successfully\n",
      "[{1: 'Cerebos Iodated Table Salt 500G'}, {2: 'Cerebos Iodated Table Salt 500G'}, {3: 'Checkers Housebrand Iodated Table Salt 500G'}]\n"
     ]
    },
    {
     "name": "stdin",
     "output_type": "stream",
     "text": [
      "select brand >  1\n"
     ]
    },
    {
     "name": "stdout",
     "output_type": "stream",
     "text": [
      "html downloaded successfully\n",
      "html downloaded successfully\n",
      "[{1: 'Huletts White Sugar 5Kg'}, {2: 'Selati White Sugar 5Kg'}, {3: 'Selati Golden Brown Sugar 5Kg'}]\n"
     ]
    },
    {
     "name": "stdin",
     "output_type": "stream",
     "text": [
      "select brand >  3\n"
     ]
    },
    {
     "name": "stdout",
     "output_type": "stream",
     "text": [
      "html downloaded successfully\n"
     ]
    },
    {
     "data": {
      "text/html": [
       "<style type=\"text/css\">\n</style>\n<table id=\"T_ad846\" style='display:inline; margin-right:30px'>\n  <caption>CHECKERS RECEIPT</caption>\n  <thead>\n    <tr>\n      <th class=\"blank level0\" >&nbsp;</th>\n      <th id=\"T_ad846_level0_col0\" class=\"col_heading level0 col0\" >Price</th>\n      <th id=\"T_ad846_level0_col1\" class=\"col_heading level0 col1\" >Regular Price</th>\n    </tr>\n  </thead>\n  <tbody>\n    <tr>\n      <th id=\"T_ad846_level0_row0\" class=\"row_heading level0 row0\" >Buffalo Fine Sea Salt 500g</th>\n      <td id=\"T_ad846_row0_col0\" class=\"data row0 col0\" >8.99</td>\n      <td id=\"T_ad846_row0_col1\" class=\"data row0 col1\" >8.99</td>\n    </tr>\n    <tr>\n      <th id=\"T_ad846_level0_row1\" class=\"row_heading level0 row1\" >Lunds Large Eggs 6 Pack</th>\n      <td id=\"T_ad846_row1_col0\" class=\"data row1 col0\" >15.99</td>\n      <td id=\"T_ad846_row1_col1\" class=\"data row1 col1\" >15.99</td>\n    </tr>\n    <tr>\n      <th id=\"T_ad846_level0_row2\" class=\"row_heading level0 row2\" >Huletts White Sugar 2.5kg</th>\n      <td id=\"T_ad846_row2_col0\" class=\"data row2 col0\" >49.99</td>\n      <td id=\"T_ad846_row2_col1\" class=\"data row2 col1\" >49.99</td>\n    </tr>\n    <tr>\n      <th id=\"T_ad846_level0_row3\" class=\"row_heading level0 row3\" >Cerebos Iodated Table Salt 500g</th>\n      <td id=\"T_ad846_row3_col0\" class=\"data row3 col0\" >24.99</td>\n      <td id=\"T_ad846_row3_col1\" class=\"data row3 col1\" >24.99</td>\n    </tr>\n    <tr>\n      <th id=\"T_ad846_level0_row4\" class=\"row_heading level0 row4\" >Huletts White Sugar 5kg</th>\n      <td id=\"T_ad846_row4_col0\" class=\"data row4 col0\" >102.99</td>\n      <td id=\"T_ad846_row4_col1\" class=\"data row4 col1\" >102.99</td>\n    </tr>\n    <tr>\n      <th id=\"T_ad846_level0_row5\" class=\"row_heading level0 row5\" >Total</th>\n      <td id=\"T_ad846_row5_col0\" class=\"data row5 col0\" >R 202.95</td>\n      <td id=\"T_ad846_row5_col1\" class=\"data row5 col1\" >R 202.95</td>\n    </tr>\n    <tr>\n      <th id=\"T_ad846_level0_row6\" class=\"row_heading level0 row6\" >Savings</th>\n      <td id=\"T_ad846_row6_col0\" class=\"data row6 col0\" >R 0.0</td>\n      <td id=\"T_ad846_row6_col1\" class=\"data row6 col1\" >-</td>\n    </tr>\n  </tbody>\n</table>\n"
      ]
     },
     "metadata": {},
     "output_type": "display_data"
    },
    {
     "data": {
      "text/plain": [
       "'******************************* WE RECOMMEND SHOPPING FROM CHECKERS ********************************'"
      ]
     },
     "execution_count": 18,
     "metadata": {},
     "output_type": "execute_result"
    }
   ],
   "source": [
    "compare_stores(stores, user_basket)"
   ]
  },
  {
   "cell_type": "code",
   "execution_count": null,
   "id": "855f6a20-a004-48d1-a1c4-71e3f6ad70f9",
   "metadata": {},
   "outputs": [],
   "source": []
  }
 ],
 "metadata": {
  "kernelspec": {
   "display_name": "Python 3 (ipykernel)",
   "language": "python",
   "name": "python3"
  },
  "language_info": {
   "codemirror_mode": {
    "name": "ipython",
    "version": 3
   },
   "file_extension": ".py",
   "mimetype": "text/x-python",
   "name": "python",
   "nbconvert_exporter": "python",
   "pygments_lexer": "ipython3",
   "version": "3.9.12"
  }
 },
 "nbformat": 4,
 "nbformat_minor": 5
}
