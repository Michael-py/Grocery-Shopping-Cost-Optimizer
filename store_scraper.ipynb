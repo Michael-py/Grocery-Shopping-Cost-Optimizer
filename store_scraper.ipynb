{
 "cells": [
  {
   "cell_type": "code",
   "execution_count": 1,
   "id": "0c79d975-c570-4c54-a5d1-7aa7f225d160",
   "metadata": {},
   "outputs": [],
   "source": [
    "import os\n",
    "import re\n",
    "import time\n",
    "import warnings\n",
    "import requests\n",
    "import geocoder\n",
    "import numpy as np\n",
    "import pandas as pd\n",
    "from bs4 import BeautifulSoup as soup\n",
    "from IPython.display import display_html\n",
    "from selenium import webdriver\n",
    "from selenium.webdriver.chrome.options import Options\n",
    "from selenium.webdriver.common.keys import Keys\n",
    "from selenium.webdriver.common.by import By\n",
    "warnings.filterwarnings('ignore')"
   ]
  },
  {
   "cell_type": "code",
   "execution_count": 2,
   "id": "3932610e-75a5-42f7-ab1a-68b65d19eb0f",
   "metadata": {},
   "outputs": [],
   "source": [
    "SHOPRITE_SEARCH_URL = 'https://www.shoprite.co.za/search/all?q='\n",
    "SHOPRITE_URL = 'https://www.shoprite.co.za'\n",
    "\n",
    "CHECKERS_SEARCH_URL = 'https://www.checkers.co.za/search/all?q='\n",
    "CHECKERS_URL = 'https://www.checkers.co.za/'\n",
    "\n",
    "WOOLWORTHS_SEARCH_URL = 'https://www.woolworths.co.za/cat?Ntt='\n",
    "WOOLWORTHS_URL = 'https://www.woolworths.co.za/'\n",
    "\n",
    "STORE_LIST = [SHOPRITE_URL, CHECKERS_URL]"
   ]
  },
  {
   "cell_type": "code",
   "execution_count": 3,
   "id": "36ae7c98-67f5-4860-8ad4-7230bf376efc",
   "metadata": {},
   "outputs": [],
   "source": [
    "FOOD_BASKET = ['large eggs 6', 'large eggs 18', 'extra large eggs 30', 'table salt 500g',\n",
    "               'table salt 1kg', 'rice 2kg', 'rice 5kg', 'rice 1kg', 'rice canister 10l', \n",
    "              'sugar 500g', 'sugar 1kg', 'sugar 2.5kg', 'sugar 5kg', 'sugar 10kg',\n",
    "              'flour 500g', 'flour 1kg', 'flour 2.5kg', 'flour 5kg', 'flour 10kg',\n",
    "              'frozen chicken', 'pork bangers', 'pork rashers', 'pork loin chops',\n",
    "              'pork braai chops', 'pork chops', 'pork shoulder ribs', 'stewing pork',\n",
    "              'beef goulash', 'ground beef', 'beef parcel', 'beef brisket', 'coarse salt 500g',\n",
    "              'fine salt 500g', 'medium salt 500g']"
   ]
  },
  {
   "cell_type": "code",
   "execution_count": 4,
   "id": "3e499fe6-9629-4917-88ca-8b06866bc8ce",
   "metadata": {},
   "outputs": [],
   "source": [
    "user_basket = np.random.choice(FOOD_BASKET, 5)"
   ]
  },
  {
   "cell_type": "code",
   "execution_count": 5,
   "id": "855f6a20-a004-48d1-a1c4-71e3f6ad70f9",
   "metadata": {},
   "outputs": [],
   "source": [
    "CITY = 'cape town'"
   ]
  },
  {
   "cell_type": "code",
   "execution_count": 32,
   "id": "3d1a83b5-560c-44a7-b635-cf132f3a27de",
   "metadata": {},
   "outputs": [],
   "source": [
    "def choose_location(url, location=CITY):\n",
    "    \n",
    "    g = geocoder.ip('me')\n",
    "    \n",
    "    if g.country == 'ZA':\n",
    "        loc = g.city\n",
    "        \n",
    "    else:\n",
    "        loc = location\n",
    "        \n",
    "    options = Options()\n",
    "    options.headless = False\n",
    "    driver = webdriver.Chrome(options=options)\n",
    "    driver.implicitly_wait(10)\n",
    "    try:\n",
    "        driver.get(url)\n",
    "    except Exception:\n",
    "        print('waiting for full page load')\n",
    "        time.sleep(30)\n",
    "    \n",
    "    try:\n",
    "        main = driver.find_element(By.TAG_NAME, 'main')\n",
    "        body = driver.find_element(By.TAG_NAME, 'body')\n",
    "        elem = driver.find_element(By.CLASS_NAME, 'header__top__links')\n",
    "        elem = driver.find_element(By.CLASS_NAME, 'header__your-store')\n",
    "        elem.click()\n",
    "        elem = driver.find_element(By.ID, 'storeFinderInput')\n",
    "        elem.send_keys(loc)\n",
    "        elem.send_keys(Keys.RETURN)\n",
    "\n",
    "        elem = driver.find_elements(By.CLASS_NAME, 'nav-store-your-results')\n",
    "        stores = []\n",
    "\n",
    "        for e in elem:\n",
    "            store = e.find_element(By.TAG_NAME, 'a')\n",
    "            stores.append(store.get_attribute('innerHTML').strip())\n",
    "\n",
    "        print(stores)\n",
    "        SELECTION = input('Which store is nearest to you? >')\n",
    "\n",
    "        elem = driver.find_element(By.CLASS_NAME, 'header__your-store')\n",
    "\n",
    "        elem.click()\n",
    "\n",
    "        elem = driver.find_element(By.ID, 'storeFinderInput')\n",
    "\n",
    "        elem.clear()\n",
    "        elem.send_keys(SELECTION)\n",
    "        elem.send_keys(Keys.RETURN)\n",
    "        time.sleep(5)\n",
    "        elem = driver.find_element(By.CLASS_NAME, 'nav-store-your-results')\n",
    "        elem = elem.find_element(By.CLASS_NAME, 'sl-container')\n",
    "        button = elem.find_element(By.TAG_NAME, 'button')\n",
    "        button.click()\n",
    "        print(\"setting your region\")\n",
    "        time.sleep(10)\n",
    "        \n",
    "        return driver\n",
    "    \n",
    "    except Exception:\n",
    "        \n",
    "        return driver      "
   ]
  },
  {
   "cell_type": "code",
   "execution_count": 7,
   "id": "ea30d4d6-852f-47a8-8d55-c07629b3214d",
   "metadata": {},
   "outputs": [],
   "source": [
    "def fetch_html(url, driver):\n",
    "    # headers={'User-Agent': 'Mozilla/5.0 (Windows NT 10.0; Win64; x64) AppleWebKit/537.36 (KHTML, like Gecko) Chrome/102.0.0.0 Safari/537.36'}\n",
    "    # response = requests.get(url, verify=False, headers=headers, timeout=10)\n",
    "    driver.get(url)\n",
    "    page = soup(driver.page_source, 'html.parser')\n",
    "    print(\"html downloaded successfully\")\n",
    "\n",
    "    return page"
   ]
  },
  {
   "cell_type": "code",
   "execution_count": 8,
   "id": "8d36e635-ba40-4809-8589-07f7724e3739",
   "metadata": {},
   "outputs": [],
   "source": [
    "def extract_product_links(html_page):\n",
    "  \n",
    "    product_div = html_page.find('div', {\"class\": re.compile('(\\w+-)*search-landing')})\n",
    "    content = product_div.find('div', class_='yCmsContentSlot')\n",
    "    component = content.find('div', class_='yCmsComponent')\n",
    "    product_wrappers = component.find('div', class_='search-landing__block--products')\n",
    "    product_row = product_wrappers.find('div', class_='row')\n",
    "    products = product_row.findAll('div', class_='product-frame')\n",
    "    \n",
    "    links = []\n",
    "    for product in products:\n",
    "        figure = product.find('figure')\n",
    "        product_link = figure.find('a', href=True)['href']\n",
    "        links.append(product_link)\n",
    "    \n",
    "    return links"
   ]
  },
  {
   "cell_type": "code",
   "execution_count": 9,
   "id": "65e4acbb-b3c7-47bd-a8f1-930c842d6b6e",
   "metadata": {},
   "outputs": [],
   "source": [
    "def match_product_url(links_arr, item):\n",
    "    \n",
    "    pattern = r'([\\w+-/%?]+' + str(item.replace(' ', '\\-')) + '[\\w+-/%?]+)'\n",
    "\n",
    "    found = []\n",
    "\n",
    "    for link in links_arr:\n",
    "        try:\n",
    "            match = re.search(pattern, link.lower()).group()\n",
    "            found.append({link: match})\n",
    "        except Exception:\n",
    "            None\n",
    "    \n",
    "    return found"
   ]
  },
  {
   "cell_type": "code",
   "execution_count": 10,
   "id": "8cdb460a-52e0-4fea-9875-d21ae02b73d8",
   "metadata": {},
   "outputs": [],
   "source": [
    "def extract_brand(link):\n",
    "    \n",
    "    text = list(link.values())[0].split('/')[-3]\n",
    "    \n",
    "    try:\n",
    "        value = re.search(r'(\\d+(\\-)?\\d+)', text).group()\n",
    "        new_link = re.sub(value, value.replace('-', '.'), text)\n",
    "        \n",
    "    except Exception:\n",
    "        new_link = text\n",
    "    \n",
    "    \n",
    "    return new_link.replace('-', ' ').title()"
   ]
  },
  {
   "cell_type": "code",
   "execution_count": 11,
   "id": "b9d795e4-335c-4db7-b9e2-f654ddc7db30",
   "metadata": {},
   "outputs": [],
   "source": [
    "def get_brands(arr_links):\n",
    "    \n",
    "    brands = []\n",
    "    counter = 1\n",
    "    \n",
    "    for item in arr_links:\n",
    "        brands.append({counter: extract_brand(item)})\n",
    "        counter+=1\n",
    "        \n",
    "    return brands"
   ]
  },
  {
   "cell_type": "code",
   "execution_count": 12,
   "id": "5bc710d8-86f5-4074-8362-bff18ad48d95",
   "metadata": {},
   "outputs": [],
   "source": [
    "def evaluate_user_choice(user_choice, links, matching_product_urls, brands, item, store_url, driver):\n",
    "    \n",
    "    html = \"\"\n",
    "    for brand in brands:\n",
    "        for key, value in brand.items():\n",
    "            if eval(user_choice) == key:\n",
    "                k_found = match_product_url(list(matching_product_urls[0].keys()), item)\n",
    "                if len(k_found) == 0:\n",
    "                    k_found = closest_products(links, matching_product_urls)\n",
    "                url = list(k_found[0].keys())[0]\n",
    "                k_fetch = fetch_html(store_url+url, driver)\n",
    "                html = k_fetch\n",
    "                \n",
    "    return html"
   ]
  },
  {
   "cell_type": "code",
   "execution_count": 13,
   "id": "3f61327b-f863-4aa5-a499-87e3caa4bc54",
   "metadata": {},
   "outputs": [],
   "source": [
    "def get_product_details(html):\n",
    "    product_specs = {}\n",
    "    \n",
    "    product_div = html.find('div', class_='pdp')\n",
    "    product_details = product_div.find('div', class_='pdp__details')\n",
    "    regex = r'\\d+\\.\\d+'\n",
    "    price = re.search(regex, product_details.find('div', class_='special-price__price').find('span').get_text().strip().lstrip('R')).group()\n",
    "\n",
    "    try:\n",
    "        promo_price = product_details.find('div', class_='special-price__extra').find('span').get_text().strip().lstrip('R')\n",
    "        promo_condition = product_details.find('span', class_='special-price__extra__text').get_text()\n",
    "    except Exception:\n",
    "        promo_price = None\n",
    "        promo_condition = None\n",
    "        \n",
    "    try:\n",
    "        extra_details = product_div.find('div', 'pdp__extras')\n",
    "        offer = extra_details.find('div', class_= 'extra-message').find('span', class_='extra-message__title').get_text().strip()\n",
    "        promo_price_1 = re.search(regex, offer).group()\n",
    "        promo_duration = extra_details.find('div', class_= 'extra-message').find('span', class_='extra-message__valid').get_text().strip().replace('&nbsp;' '')\n",
    "    except Exception:\n",
    "        offer = None\n",
    "        promo_price_1 = None\n",
    "        promo_duration = None\n",
    "    \n",
    "    if not promo_price and not promo_price_1:\n",
    "        promo_price = None\n",
    "        \n",
    "    elif not promo_price and promo_price_1:\n",
    "        promo_price = promo_price_1\n",
    "    \n",
    "    else:\n",
    "        promo_price = promo_price\n",
    "        \n",
    "    product_desc = product_details.find('div', class_='pdp__description').get_text()\n",
    "    product_name = product_details.find('h1', class_='pdp__name').get_text()\n",
    "    product_brand = product_name.split()[0]\n",
    "    product_image_url = SHOPRITE_URL + product_div.find('div', class_='pdp__image').find('img')['src']\n",
    "\n",
    "    product_specs['Brand'] = product_brand\n",
    "    product_specs['Name'] = product_name + \"**\" if promo_price and (price > promo_price) else product_name\n",
    "    product_specs['Description'] = product_desc\n",
    "    product_specs['Regular Price'] = price\n",
    "    product_specs['Offer'] = offer\n",
    "    product_specs['Promo Price'] = promo_price\n",
    "    product_specs['Promo Condition'] = promo_condition\n",
    "    product_specs['Product Image'] = product_image_url\n",
    "    \n",
    "    return product_specs"
   ]
  },
  {
   "cell_type": "code",
   "execution_count": 14,
   "id": "d63aaf47-a449-4526-afc5-0c3eebf59138",
   "metadata": {},
   "outputs": [],
   "source": [
    "def total_cost(basket_details):\n",
    "    \n",
    "    receipt = {}\n",
    "    total_cost = 0\n",
    "    regular_total = 0\n",
    "\n",
    "    for item in basket_details:\n",
    "        if item['Promo Price'] and (item['Promo Price'] < item['Regular Price']):\n",
    "            price = item['Promo Price']\n",
    "        else:\n",
    "            price = item['Regular Price']\n",
    "\n",
    "        total_cost += float(price)\n",
    "        regular_total += float(item['Regular Price'])\n",
    "        \n",
    "        receipt[item['Name']] =  (price, item['Regular Price'], item['Promo Condition'])\n",
    "    \n",
    "    receipt['Total'] = (\"R \" + str(round(total_cost,2)), \"R \" + str(round(regular_total, 2)), \"-\")\n",
    "    receipt['Savings'] = (f\"R {round(abs(total_cost - regular_total), 2)}\", \"-\", \"-\")\n",
    "    \n",
    "    return receipt\n",
    "    "
   ]
  },
  {
   "cell_type": "code",
   "execution_count": 15,
   "id": "a5710794-2afe-4de3-93d8-fac5727780fd",
   "metadata": {},
   "outputs": [],
   "source": [
    "def closest_products(product_links, product_match):\n",
    "    all_matches = []\n",
    "    key = product_links\n",
    "    value = [link.lower() for link in product_links]\n",
    "    \n",
    "    for i in range(len(key)):\n",
    "        all_matches.append(dict(zip([key[i]], [value[i]])))\n",
    "    product_match = all_matches\n",
    "    \n",
    "    return product_match"
   ]
  },
  {
   "cell_type": "code",
   "execution_count": 16,
   "id": "8f9d0f88-3014-4923-b19a-f5c950a52daf",
   "metadata": {},
   "outputs": [],
   "source": [
    "def evaluate_user_basket(basket, search_url, store_url, driver):\n",
    "    user_product_details = []\n",
    "\n",
    "    for item in basket:\n",
    "        search_result = fetch_html(search_url+item, driver)\n",
    "        product_links = extract_product_links(search_result)\n",
    "        product_match = match_product_url(product_links, item)\n",
    "        if len(product_match) == 0:\n",
    "            product_match = closest_products(product_links, product_match)\n",
    "        product_brands = get_brands(product_match)\n",
    "\n",
    "        print(product_brands)\n",
    "\n",
    "        user_choice = input('select brand > ')\n",
    "        html = evaluate_user_choice(user_choice, product_links, product_match, product_brands, item, store_url, driver)\n",
    "        product_details = get_product_details(html)\n",
    "\n",
    "        user_product_details.append(product_details)\n",
    "\n",
    "        basket_cost = total_cost(user_product_details)\n",
    "        \n",
    "    return basket_cost"
   ]
  },
  {
   "cell_type": "code",
   "execution_count": 17,
   "id": "969ed373-edf0-4cdd-b00d-63fbc933ab91",
   "metadata": {},
   "outputs": [],
   "source": [
    "def get_receipt(receipt):\n",
    "    receipt = pd.DataFrame.from_dict(receipt, orient='index',\n",
    "                                    columns=['Price', 'Regular Price', 'Condition'])\n",
    "\n",
    "    return receipt"
   ]
  },
  {
   "cell_type": "code",
   "execution_count": 18,
   "id": "0e5aa4f2-e046-491c-8c20-2ab0cc3a3c20",
   "metadata": {},
   "outputs": [],
   "source": [
    "def compare_stores(stores, user_basket, driver):\n",
    "    receipts = []\n",
    "    promos = {}\n",
    "    for store in stores:\n",
    "        for name, urls in store.items():\n",
    "            store_receipt = evaluate_user_basket(basket=user_basket, search_url=urls[0], store_url=urls[1], driver=driver)\n",
    "            receipt = get_receipt(store_receipt)\n",
    "            promo_total = receipt.iloc[-2].values[0].strip('R').strip()\n",
    "            promos[name] = promo_total\n",
    "            receipt_styler = receipt.style\\\n",
    "                        .set_table_attributes(\"style='display:inline; margin-right:30px'\")\\\n",
    "                        .set_caption(name.upper() + ' RECEIPT')\n",
    "            \n",
    "            receipts.append(receipt_styler)\n",
    "    print(\"#\"*120)\n",
    "    display_html([tbl._repr_html_() for tbl in receipts], raw=True)\n",
    "    \n",
    "    min_total = min(promos.values())\n",
    "    for store, total in promos.items():\n",
    "        if total == min_total:\n",
    "            return (f\" WE RECOMMEND SHOPPING FROM {store} \".upper().center(100, \"*\"))"
   ]
  },
  {
   "cell_type": "code",
   "execution_count": 19,
   "id": "9463ff28-1d95-481a-a05e-f7416e088c8b",
   "metadata": {},
   "outputs": [],
   "source": [
    "stores = [{\"checkers\": (CHECKERS_SEARCH_URL, CHECKERS_URL),\n",
    "          \"shoprite\": (SHOPRITE_SEARCH_URL, SHOPRITE_URL)}]"
   ]
  },
  {
   "cell_type": "code",
   "execution_count": 20,
   "id": "7fb0351c-326f-435a-8d8d-0a1e57bedc98",
   "metadata": {},
   "outputs": [
    {
     "name": "stdout",
     "output_type": "stream",
     "text": [
      "['Checkers Foods CF Westlake', 'Checkers Constantia', 'Checkers Table View', 'Checkers Bothasig', 'Checkers Table Bay Mall']\n"
     ]
    },
    {
     "name": "stdin",
     "output_type": "stream",
     "text": [
      "Which store is nearest to you? > checkers table view\n"
     ]
    }
   ],
   "source": [
    "for store in STORE_LIST:\n",
    "    driver = choose_location(url=store)"
   ]
  },
  {
   "cell_type": "code",
   "execution_count": 21,
   "id": "39c3d675-4399-4eaa-bca4-98d5e0e8a79d",
   "metadata": {},
   "outputs": [
    {
     "name": "stdout",
     "output_type": "stream",
     "text": [
      "html downloaded successfully\n"
     ]
    },
    {
     "ename": "AttributeError",
     "evalue": "'NoneType' object has no attribute 'find'",
     "output_type": "error",
     "traceback": [
      "\u001b[1;31m---------------------------------------------------------------------------\u001b[0m",
      "\u001b[1;31mAttributeError\u001b[0m                            Traceback (most recent call last)",
      "Input \u001b[1;32mIn [21]\u001b[0m, in \u001b[0;36m<cell line: 1>\u001b[1;34m()\u001b[0m\n\u001b[1;32m----> 1\u001b[0m \u001b[43mcompare_stores\u001b[49m\u001b[43m(\u001b[49m\u001b[43mstores\u001b[49m\u001b[43m,\u001b[49m\u001b[43m \u001b[49m\u001b[43muser_basket\u001b[49m\u001b[43m,\u001b[49m\u001b[43m \u001b[49m\u001b[43mdriver\u001b[49m\u001b[43m)\u001b[49m\n",
      "Input \u001b[1;32mIn [18]\u001b[0m, in \u001b[0;36mcompare_stores\u001b[1;34m(stores, user_basket, driver)\u001b[0m\n\u001b[0;32m      4\u001b[0m \u001b[38;5;28;01mfor\u001b[39;00m store \u001b[38;5;129;01min\u001b[39;00m stores:\n\u001b[0;32m      5\u001b[0m     \u001b[38;5;28;01mfor\u001b[39;00m name, urls \u001b[38;5;129;01min\u001b[39;00m store\u001b[38;5;241m.\u001b[39mitems():\n\u001b[1;32m----> 6\u001b[0m         store_receipt \u001b[38;5;241m=\u001b[39m \u001b[43mevaluate_user_basket\u001b[49m\u001b[43m(\u001b[49m\u001b[43mbasket\u001b[49m\u001b[38;5;241;43m=\u001b[39;49m\u001b[43muser_basket\u001b[49m\u001b[43m,\u001b[49m\u001b[43m \u001b[49m\u001b[43msearch_url\u001b[49m\u001b[38;5;241;43m=\u001b[39;49m\u001b[43murls\u001b[49m\u001b[43m[\u001b[49m\u001b[38;5;241;43m0\u001b[39;49m\u001b[43m]\u001b[49m\u001b[43m,\u001b[49m\u001b[43m \u001b[49m\u001b[43mstore_url\u001b[49m\u001b[38;5;241;43m=\u001b[39;49m\u001b[43murls\u001b[49m\u001b[43m[\u001b[49m\u001b[38;5;241;43m1\u001b[39;49m\u001b[43m]\u001b[49m\u001b[43m,\u001b[49m\u001b[43m \u001b[49m\u001b[43mdriver\u001b[49m\u001b[38;5;241;43m=\u001b[39;49m\u001b[43mdriver\u001b[49m\u001b[43m)\u001b[49m\n\u001b[0;32m      7\u001b[0m         receipt \u001b[38;5;241m=\u001b[39m get_receipt(store_receipt)\n\u001b[0;32m      8\u001b[0m         promo_total \u001b[38;5;241m=\u001b[39m receipt\u001b[38;5;241m.\u001b[39miloc[\u001b[38;5;241m-\u001b[39m\u001b[38;5;241m2\u001b[39m]\u001b[38;5;241m.\u001b[39mvalues[\u001b[38;5;241m0\u001b[39m]\u001b[38;5;241m.\u001b[39mstrip(\u001b[38;5;124m'\u001b[39m\u001b[38;5;124mR\u001b[39m\u001b[38;5;124m'\u001b[39m)\u001b[38;5;241m.\u001b[39mstrip()\n",
      "Input \u001b[1;32mIn [16]\u001b[0m, in \u001b[0;36mevaluate_user_basket\u001b[1;34m(basket, search_url, store_url, driver)\u001b[0m\n\u001b[0;32m      4\u001b[0m \u001b[38;5;28;01mfor\u001b[39;00m item \u001b[38;5;129;01min\u001b[39;00m basket:\n\u001b[0;32m      5\u001b[0m     search_result \u001b[38;5;241m=\u001b[39m fetch_html(search_url\u001b[38;5;241m+\u001b[39mitem, driver)\n\u001b[1;32m----> 6\u001b[0m     product_links \u001b[38;5;241m=\u001b[39m \u001b[43mextract_product_links\u001b[49m\u001b[43m(\u001b[49m\u001b[43msearch_result\u001b[49m\u001b[43m)\u001b[49m\n\u001b[0;32m      7\u001b[0m     product_match \u001b[38;5;241m=\u001b[39m match_product_url(product_links, item)\n\u001b[0;32m      8\u001b[0m     \u001b[38;5;28;01mif\u001b[39;00m \u001b[38;5;28mlen\u001b[39m(product_match) \u001b[38;5;241m==\u001b[39m \u001b[38;5;241m0\u001b[39m:\n",
      "Input \u001b[1;32mIn [8]\u001b[0m, in \u001b[0;36mextract_product_links\u001b[1;34m(html_page)\u001b[0m\n\u001b[0;32m      1\u001b[0m \u001b[38;5;28;01mdef\u001b[39;00m \u001b[38;5;21mextract_product_links\u001b[39m(html_page):\n\u001b[0;32m      3\u001b[0m     product_div \u001b[38;5;241m=\u001b[39m html_page\u001b[38;5;241m.\u001b[39mfind(\u001b[38;5;124m'\u001b[39m\u001b[38;5;124mdiv\u001b[39m\u001b[38;5;124m'\u001b[39m, {\u001b[38;5;124m\"\u001b[39m\u001b[38;5;124mclass\u001b[39m\u001b[38;5;124m\"\u001b[39m: re\u001b[38;5;241m.\u001b[39mcompile(\u001b[38;5;124m'\u001b[39m\u001b[38;5;124m(\u001b[39m\u001b[38;5;124m\\\u001b[39m\u001b[38;5;124mw+-)*search-landing\u001b[39m\u001b[38;5;124m'\u001b[39m)})\n\u001b[1;32m----> 4\u001b[0m     content \u001b[38;5;241m=\u001b[39m \u001b[43mproduct_div\u001b[49m\u001b[38;5;241;43m.\u001b[39;49m\u001b[43mfind\u001b[49m(\u001b[38;5;124m'\u001b[39m\u001b[38;5;124mdiv\u001b[39m\u001b[38;5;124m'\u001b[39m, class_\u001b[38;5;241m=\u001b[39m\u001b[38;5;124m'\u001b[39m\u001b[38;5;124myCmsContentSlot\u001b[39m\u001b[38;5;124m'\u001b[39m)\n\u001b[0;32m      5\u001b[0m     component \u001b[38;5;241m=\u001b[39m content\u001b[38;5;241m.\u001b[39mfind(\u001b[38;5;124m'\u001b[39m\u001b[38;5;124mdiv\u001b[39m\u001b[38;5;124m'\u001b[39m, class_\u001b[38;5;241m=\u001b[39m\u001b[38;5;124m'\u001b[39m\u001b[38;5;124myCmsComponent\u001b[39m\u001b[38;5;124m'\u001b[39m)\n\u001b[0;32m      6\u001b[0m     product_wrappers \u001b[38;5;241m=\u001b[39m component\u001b[38;5;241m.\u001b[39mfind(\u001b[38;5;124m'\u001b[39m\u001b[38;5;124mdiv\u001b[39m\u001b[38;5;124m'\u001b[39m, class_\u001b[38;5;241m=\u001b[39m\u001b[38;5;124m'\u001b[39m\u001b[38;5;124msearch-landing__block--products\u001b[39m\u001b[38;5;124m'\u001b[39m)\n",
      "\u001b[1;31mAttributeError\u001b[0m: 'NoneType' object has no attribute 'find'"
     ]
    }
   ],
   "source": [
    "compare_stores(stores, user_basket, driver)"
   ]
  },
  {
   "cell_type": "markdown",
   "id": "28e4c50f-d6fd-43d9-84e7-5270ba52f74e",
   "metadata": {},
   "source": [
    "## PENDING INCLUSION"
   ]
  },
  {
   "cell_type": "code",
   "execution_count": 26,
   "id": "eb9cab02-f334-4d4a-a11d-3dc778ae1b1a",
   "metadata": {},
   "outputs": [],
   "source": [
    "driver.get(CHECKERS_SEARCH_URL+'sugar 1kg')"
   ]
  },
  {
   "cell_type": "code",
   "execution_count": 27,
   "id": "41751516-95f6-4414-a639-8495e1f5c47e",
   "metadata": {},
   "outputs": [
    {
     "data": {
      "text/plain": [
       "'<html lang=\"en\"><head>\\n    <title>ShieldSquare Captcha</title>\\n    <meta charset=\"utf-8\">\\n<meta name=\"viewport\" content=\"width=device-width, initial-scale=1\">\\n<link rel=\"icon\" href=\"https://captcha.perfdrive.com/captcha-public/images/favicon.png\">\\n<link rel=\"stylesheet\" href=\"https://captcha.perfdrive.com/captcha-public/css/shieldsquare_styles.min.css\">\\n    <script async=\"\" src=\"https://cdn.perfdrive.com/aperture/aperture.js\"></script><script type=\"text/javascript\">\\n\\twindow.SSJSInternal = 22377;\\n\\n    var __uzdbm_1 = \"ea19d0ff-6041-b80e-1d79-127942d3ffea\";\\n    var __uzdbm_2 = \"OTQwMTZmMmYtYmtsYi0yZDUzLTBmOWUtZjRmNjc1NGMyODE0JDE5Ny4yMTAuNTIuODg=\";\\n\\n\\t(function(w, d, e, u, c, g, a, b){\\n\\t\\tw[\"SSJSConnectorObj\"] = w[\"SSJSConnectorObj\"] || {ss_cid : c, domain_info: g};\\n\\t\\ta = d.createElement(e);\\n\\t\\ta.async = true;\\n\\t\\ta.src = u;\\n\\t\\tb = d.getElementsByTagName(e)[0];\\n\\t\\tb.parentNode.insertBefore(a, b);\\n\\t})(window,document,\"script\",\"https://cdn.perfdrive.com/aperture/aperture.js\",\"b8c3\",\"auto\");\\n</script>\\n    </head>\\n<body>\\n<div class=\"container\">\\n    <div class=\"row\">\\n        <div class=\"col-1\">\\n            <img src=\"https://captcha.perfdrive.com/captcha-public/images/ss_captcha.png\" alt=\"Captcha Page\">\\n        </div>\\n        <div class=\"col-2\">\\n            <h1>We apologize for the inconvenience...</h1>\\n            <p>...but your activity and behavior on this site made us think that you are a bot.</p>\\n            <p><b>Note:</b> A number of things could be going on here.</p>\\n            <ol>\\n                <li>If you are attempting to access this site using an anonymous Private/Proxy network, please disable that and try accessing site again.</li>\\n                <li>Due to previously detected malicious behavior which originated from the network you\\'re using, please request unblock to site.</li>\\n            </ol>\\n        </div>\\n    </div>\\n    <center><b>Incident ID:</b> 94016f2f-bklb-2d53-0f9e-f4f6754c2814<center>\\n    <div class=\"row\">\\n        <br>\\n        <div>\\n            <center>\\n                <p><b> Please solve this CAPTCHA to request unblock to the website </b></p>\\n            </center>\\n        </div>\\n        <br>\\n        <div class=\"captcha-mid\">\\n            <form action=\"\" method=\"POST\" style=\"width:300px;margin-left:auto;margin-right:auto;\">\\n                <script type=\"text/javascript\" src=\"https://hcaptcha.com/1/api.js\"></script>\\n                <div class=\"h-captcha\" data-sitekey=\"ae73173b-7003-44e0-bc87-654d0dab8b75\"><iframe src=\"https://newassets.hcaptcha.com/captcha/v1/c7fb19c/static/hcaptcha.html#frame=checkbox&amp;id=055cnobegmnk&amp;host=euvalidate.perfdrive.com&amp;sentry=true&amp;reportapi=https%3A%2F%2Faccounts.hcaptcha.com&amp;recaptchacompat=true&amp;custom=false&amp;hl=en&amp;tplinks=on&amp;sitekey=ae73173b-7003-44e0-bc87-654d0dab8b75&amp;theme=light\" title=\"widget containing checkbox for hCaptcha security challenge\" tabindex=\"0\" frameborder=\"0\" scrolling=\"no\" data-hcaptcha-widget-id=\"055cnobegmnk\" data-hcaptcha-response=\"\" style=\"width: 303px; height: 78px; overflow: hidden;\"></iframe><textarea id=\"g-recaptcha-response-055cnobegmnk\" name=\"g-recaptcha-response\" style=\"display: none;\"></textarea><textarea id=\"h-captcha-response-055cnobegmnk\" name=\"h-captcha-response\" style=\"display: none;\"></textarea></div>\\n                <input type=\"hidden\" id=\"recaptcha_response\" name=\"recaptcha_response\"><br>\\n                <center><br><input type=\"submit\" class=\"btn btn-success btn-sm\" value=\"Submit\"><br></center>\\n            </form>\\n        </div>\\n    </div>\\n</center></center></div>\\n\\n<div class=\"footer\">\\n    <div class=\"footer\">\\n\\t<p class=\"text-muted credit\">\\n\\t\\tYou reached this page when trying to access\\n\\t\\t<b>https://www.checkers.co.za/search/all?q=sugar%201kg</b> from\\n\\t\\t<b>197.210.52.88</b> on\\n\\t\\t<b>July 04 2022, 18:11:31 UTC</b>\\n\\t</p>\\n</div>\\n</div>\\n<div aria-hidden=\"true\" style=\"background-color: rgb(255, 255, 255); border: 1px solid rgb(215, 215, 215); box-shadow: rgba(0, 0, 0, 0.1) 0px 0px 4px; border-radius: 4px; left: -10000px; top: -10000px; z-index: -2147483648; position: absolute; transition: opacity 0.15s ease-out 0s; opacity: 0; visibility: hidden;\"><div style=\"position: relative; z-index: 1;\"><iframe src=\"https://newassets.hcaptcha.com/captcha/v1/c7fb19c/static/hcaptcha.html#frame=challenge&amp;id=055cnobegmnk&amp;host=euvalidate.perfdrive.com&amp;sentry=true&amp;reportapi=https%3A%2F%2Faccounts.hcaptcha.com&amp;recaptchacompat=true&amp;custom=false&amp;hl=en&amp;tplinks=on&amp;sitekey=ae73173b-7003-44e0-bc87-654d0dab8b75&amp;theme=light\" title=\"Main content of the hCaptcha challenge\" frameborder=\"0\" scrolling=\"no\" style=\"border: 0px; z-index: 2000000000; position: relative;\"></iframe></div><div style=\"width: 100%; height: 100%; position: fixed; pointer-events: none; top: 0px; left: 0px; z-index: 0; background-color: rgb(255, 255, 255); opacity: 0.05;\"></div><div style=\"border-width: 11px; position: absolute; pointer-events: none; margin-top: -11px; z-index: 1; right: 100%;\"><div style=\"border-width: 10px; border-style: solid; border-color: transparent rgb(255, 255, 255) transparent transparent; position: relative; top: 10px; z-index: 1;\"></div><div style=\"border-width: 11px; border-style: solid; border-color: transparent rgb(215, 215, 215) transparent transparent; position: relative; top: -11px; z-index: 0;\"></div></div></div></body></html>'"
      ]
     },
     "execution_count": 27,
     "metadata": {},
     "output_type": "execute_result"
    }
   ],
   "source": [
    "driver.page_source"
   ]
  },
  {
   "cell_type": "code",
   "execution_count": null,
   "id": "61ba5aac-794b-4e3a-9223-c2ea4edb2e90",
   "metadata": {},
   "outputs": [],
   "source": [
    "page = soup(d.page_source, 'html.parser')\n",
    "product_div = page.find('div', {\"class\": re.compile('(\\w+-)*search-landing')})\n",
    "content = product_div.find('div', class_='yCmsContentSlot')\n",
    "component = content.find('div', class_='yCmsComponent')\n",
    "product_wrappers = component.find('div', class_='search-landing__block--products')\n",
    "product_row = product_wrappers.find('div', class_='row')\n",
    "products = product_row.findAll('div', class_='product-frame')\n",
    "\n",
    "links = []\n",
    "for product in products:\n",
    "    figure = product.find('figure')\n",
    "    product_link = figure.find('a', href=True)['href']\n",
    "    links.append(product_link)"
   ]
  },
  {
   "cell_type": "code",
   "execution_count": 352,
   "id": "2e3e2e74-4163-4dc5-a466-0acf07452315",
   "metadata": {},
   "outputs": [
    {
     "data": {
      "text/plain": [
       "['/All-Departments/Food/Food-Cupboard/Cooking-Ingredients/Salt-and-Pepper/Suchet%27s-Iodated-Salt-1kg/p/10138586EA',\n",
       " '/All-Departments/Household/Cleaning/Dishwashing/Dishwasher-Salt/Marina-Dishwasher-Salt-1kg/p/10124010EA',\n",
       " '/All-Departments/Food/Food-Cupboard/Cooking-Ingredients/Salt-and-Pepper/Seepo-Fine-Salt-1kg/p/10138295EA',\n",
       " '/All-Departments/Food/Food-Cupboard/Cooking-Ingredients/Salt-and-Pepper/Cerebos-Iodated-Table-Salt-1kg/p/10140757EA',\n",
       " '/All-Departments/Food/Food-Cupboard/Cooking-Ingredients/Salt-and-Pepper/Cerebos-Iodated-Sea-Salt-1KG-Pack/p/10143950EA',\n",
       " '/All-Departments/Food/Food-Cupboard/Cooking-Ingredients/Salt-and-Pepper/Checkers-Housebrand-Table-Salt-1kg/p/10157633EA',\n",
       " '/c/Royal-Coarse-Dishwasher-Salt-1kg/p/10135686EA',\n",
       " '/All-Departments/Food/Food-Cupboard/Cooking-Ingredients/Salt-and-Pepper/Salnova-Iodated-Coarse-Sea-Salt-1kg/p/10132758EA',\n",
       " '/All-Departments/Household/Cleaning/Dishwashing/Salgo-Refined-Refined-Coarse-Dishwasher-Salt-1kg/p/10239040EA',\n",
       " '/All-Departments/Food/Food-Cupboard/Cooking-Ingredients/Salt-and-Pepper/Cerebos-Iodated-Table-Salt-Pack-1kg/p/10143951EA']"
      ]
     },
     "execution_count": 352,
     "metadata": {},
     "output_type": "execute_result"
    }
   ],
   "source": [
    "links"
   ]
  },
  {
   "cell_type": "code",
   "execution_count": 38,
   "id": "42f6a00f-253c-4c9a-a3ad-1eb6fa0272e7",
   "metadata": {},
   "outputs": [],
   "source": [
    "driver.close()"
   ]
  },
  {
   "cell_type": "code",
   "execution_count": 39,
   "id": "455b8d15-f653-4742-8048-6a9ca8293ab5",
   "metadata": {},
   "outputs": [
    {
     "name": "stdout",
     "output_type": "stream",
     "text": [
      "['Checkers Foods CF Westlake', 'Checkers Constantia', 'Checkers Table View', 'Checkers Bothasig', 'Checkers Table Bay Mall']\n"
     ]
    },
    {
     "name": "stdin",
     "output_type": "stream",
     "text": [
      "Which store is nearest to you? > Checkers Table Bay Mall\n"
     ]
    },
    {
     "name": "stdout",
     "output_type": "stream",
     "text": [
      "setting your region\n"
     ]
    }
   ],
   "source": [
    "driver = choose_location(url=CHECKERS_URL)"
   ]
  },
  {
   "cell_type": "code",
   "execution_count": 40,
   "id": "89ac1ccc-94d0-444c-b73d-7b51058a2130",
   "metadata": {},
   "outputs": [],
   "source": [
    "driver.get(CHECKERS_SEARCH_URL+'salt 1kg')"
   ]
  },
  {
   "cell_type": "code",
   "execution_count": 42,
   "id": "96525363-41a0-4e35-8f1a-247c4bc7242d",
   "metadata": {},
   "outputs": [],
   "source": [
    "page_soup = soup(driver.page_source, 'html.parser')"
   ]
  },
  {
   "cell_type": "code",
   "execution_count": 43,
   "id": "d33d44ab-df02-41c9-93a9-7f62d07cb6c2",
   "metadata": {},
   "outputs": [],
   "source": [
    "items = page_soup.find_all('div', class_='item-product')"
   ]
  },
  {
   "cell_type": "code",
   "execution_count": 63,
   "id": "c3f29f5d-5061-497f-b430-5105872f4371",
   "metadata": {},
   "outputs": [
    {
     "data": {
      "text/plain": [
       "[{'Name': \"Suchet's Iodated Salt 1kg\", 'Price': '19.99', 'Availability': ' '},\n",
       " {'Name': 'Marina Dishwasher Salt 1kg', 'Price': '15.99', 'Availability': ' '},\n",
       " {'Name': 'Seepo Fine Salt 1kg', 'Price': '11.99', 'Availability': ' '},\n",
       " {'Name': 'Cerebos Iodated Table Salt 1kg',\n",
       "  'Price': '46.99',\n",
       "  'Availability': ' '},\n",
       " {'Name': 'Cerebos Iodated Sea Salt 1KG Pack',\n",
       "  'Price': '19.99',\n",
       "  'Availability': ' '},\n",
       " {'Name': 'Checkers Housebrand Table Salt 1kg',\n",
       "  'Price': '11.99',\n",
       "  'Availability': ' '},\n",
       " {'Name': 'Royal Coarse Dishwasher Salt 1kg',\n",
       "  'Price': '10.99',\n",
       "  'Availability': ' '},\n",
       " {'Name': 'Salnova Iodated Coarse Sea Salt 1kg',\n",
       "  'Price': '19.99',\n",
       "  'Availability': ' '},\n",
       " {'Name': 'Salgo Refined Refined Coarse Dishwasher Salt 1kg',\n",
       "  'Price': '19.99',\n",
       "  'Availability': ' '},\n",
       " {'Name': 'Cerebos Iodated Table Salt Pack 1kg',\n",
       "  'Price': '19.99',\n",
       "  'Availability': ' '}]"
      ]
     },
     "execution_count": 63,
     "metadata": {},
     "output_type": "execute_result"
    }
   ],
   "source": [
    "products_list = []\n",
    "\n",
    "for item in items:\n",
    "    products = {}\n",
    "    \n",
    "    price = item.find('div', class_='special-price__price').get_text().strip('\\n').strip().lstrip('R')\n",
    "    name = item.find('h3', class_='item-product__name').get_text().strip()\n",
    "    availability = item.find('div', class_='js-available-in-store').get_text()\n",
    "    \n",
    "    products['Name'] = name\n",
    "    products['Price'] = price\n",
    "    products['Availability'] = availability\n",
    "    \n",
    "    products_list.append(products)\n",
    "\n",
    "products_list"
   ]
  },
  {
   "cell_type": "code",
   "execution_count": null,
   "id": "4771ab49-3391-4065-ab83-676d08ede7cf",
   "metadata": {},
   "outputs": [],
   "source": []
  }
 ],
 "metadata": {
  "kernelspec": {
   "display_name": "Python 3 (ipykernel)",
   "language": "python",
   "name": "python3"
  },
  "language_info": {
   "codemirror_mode": {
    "name": "ipython",
    "version": 3
   },
   "file_extension": ".py",
   "mimetype": "text/x-python",
   "name": "python",
   "nbconvert_exporter": "python",
   "pygments_lexer": "ipython3",
   "version": "3.9.12"
  }
 },
 "nbformat": 4,
 "nbformat_minor": 5
}
